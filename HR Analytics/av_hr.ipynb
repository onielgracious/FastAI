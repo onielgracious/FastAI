{
  "nbformat": 4,
  "nbformat_minor": 0,
  "metadata": {
    "kernelspec": {
      "name": "python3",
      "display_name": "Python 3"
    },
    "language_info": {
      "codemirror_mode": {
        "name": "ipython",
        "version": 3
      },
      "file_extension": ".py",
      "mimetype": "text/x-python",
      "name": "python",
      "nbconvert_exporter": "python",
      "pygments_lexer": "ipython3",
      "version": "3.6.7"
    },
    "colab": {
      "name": "av_hr.ipynb",
      "provenance": [],
      "collapsed_sections": []
    },
    "accelerator": "GPU"
  },
  "cells": [
    {
      "cell_type": "code",
      "metadata": {
        "id": "X48A-QPxIZU1",
        "colab_type": "code",
        "colab": {}
      },
      "source": [
        "import pandas as pd\n",
        "import numpy as np\n",
        "import datetime as dt\n",
        "import logging\n",
        "import warnings\n",
        "warnings.filterwarnings('ignore')"
      ],
      "execution_count": 0,
      "outputs": []
    },
    {
      "cell_type": "code",
      "metadata": {
        "id": "aU0WKAziIZU7",
        "colab_type": "code",
        "colab": {}
      },
      "source": [
        "%reload_ext autoreload\n",
        "%autoreload 2"
      ],
      "execution_count": 0,
      "outputs": []
    },
    {
      "cell_type": "code",
      "metadata": {
        "id": "vLP8ZJgcIZU_",
        "colab_type": "code",
        "colab": {}
      },
      "source": [
        "#!pip install fastai==0.7.0"
      ],
      "execution_count": 0,
      "outputs": []
    },
    {
      "cell_type": "code",
      "metadata": {
        "id": "uEBVyS4qIZVD",
        "colab_type": "code",
        "colab": {}
      },
      "source": [
        "from fastai.tabular import *\n",
        "#from fastai.learner import *\n",
        "from fastai.text import *\n",
        "#from fastai.column_data import *\n",
        "from fastai.imports import *"
      ],
      "execution_count": 0,
      "outputs": []
    },
    {
      "cell_type": "code",
      "metadata": {
        "id": "rMYdGpCHIzeb",
        "colab_type": "code",
        "outputId": "16e8b975-96ce-4d8e-e7da-dc27e2a8570f",
        "colab": {
          "base_uri": "https://localhost:8080/",
          "height": 118
        }
      },
      "source": [
        "from google.colab import drive\n",
        "drive.mount('/content/drive')"
      ],
      "execution_count": 0,
      "outputs": [
        {
          "output_type": "stream",
          "text": [
            "Go to this URL in a browser: https://accounts.google.com/o/oauth2/auth?client_id=947318989803-6bn6qk8qdgf4n4g3pfee6491hc0brc4i.apps.googleusercontent.com&redirect_uri=urn%3aietf%3awg%3aoauth%3a2.0%3aoob&response_type=code&scope=email%20https%3a%2f%2fwww.googleapis.com%2fauth%2fdocs.test%20https%3a%2f%2fwww.googleapis.com%2fauth%2fdrive%20https%3a%2f%2fwww.googleapis.com%2fauth%2fdrive.photos.readonly%20https%3a%2f%2fwww.googleapis.com%2fauth%2fpeopleapi.readonly\n",
            "\n",
            "Enter your authorization code:\n",
            "··········\n",
            "Mounted at /content/drive\n"
          ],
          "name": "stdout"
        }
      ]
    },
    {
      "cell_type": "code",
      "metadata": {
        "id": "mlhq9_AWI9R1",
        "colab_type": "code",
        "outputId": "6598af3f-c148-4fb0-f31a-52ae876c87ff",
        "colab": {
          "base_uri": "https://localhost:8080/",
          "height": 50
        }
      },
      "source": [
        "!ls \"drive/My Drive/Colab Notebooks/HRAnalytics/\"\n",
        "path = \"drive/My Drive/Colab Notebooks/HRAnalytics/\""
      ],
      "execution_count": 0,
      "outputs": [
        {
          "output_type": "stream",
          "text": [
            "av_hr.ipynb  sample_submission.csv  test.csv\n",
            "models\t     Submit_result1.csv     train.csv\n"
          ],
          "name": "stdout"
        }
      ]
    },
    {
      "cell_type": "code",
      "metadata": {
        "id": "4_PCseJSIZVH",
        "colab_type": "code",
        "colab": {}
      },
      "source": [
        "# Read data\n",
        "train = pd.read_csv(path+'train.csv')\n",
        "test = pd.read_csv(path+'test.csv')\n",
        "submit = pd.read_csv(path+'sample_submission.csv')"
      ],
      "execution_count": 0,
      "outputs": []
    },
    {
      "cell_type": "code",
      "metadata": {
        "id": "y36gtwT6IAyN",
        "colab_type": "code",
        "colab": {}
      },
      "source": [
        "train['education'].replace(np.nan,\"Bachelor's\",inplace=True)\n",
        "test['education'].replace(np.nan,\"Bachelor's\",inplace=True)\n",
        "\n",
        "train['education'].replace(\"Master's & above\",3,inplace=True)\n",
        "test['education'].replace(\"Master's & above\",3,inplace=True)\n",
        "\n",
        "train['education'].replace(\"Bachelor's\",2,inplace=True)\n",
        "test['education'].replace(\"Bachelor's\",2,inplace=True)\n",
        "\n",
        "train['education'].replace(\"Below Secondary\",1,inplace=True)\n",
        "test['education'].replace(\"Below Secondary\",1,inplace=True)"
      ],
      "execution_count": 0,
      "outputs": []
    },
    {
      "cell_type": "code",
      "metadata": {
        "id": "eX4PmUgDIBsa",
        "colab_type": "code",
        "colab": {}
      },
      "source": [
        "train['previous_year_rating'].replace(np.nan,3.,inplace=True)\n",
        "test['previous_year_rating'].replace(np.nan,3.,inplace=True)"
      ],
      "execution_count": 0,
      "outputs": []
    },
    {
      "cell_type": "code",
      "metadata": {
        "id": "mBhK_nS0IGfV",
        "colab_type": "code",
        "colab": {}
      },
      "source": [
        "train['sum_metric'] = train['awards_won?']+train['KPIs_met >80%'] + train['previous_year_rating']\n",
        "test['sum_metric'] = test['awards_won?']+test['KPIs_met >80%'] + test['previous_year_rating']\n",
        "\n",
        "train['tot_score'] = train['avg_training_score'] * train['no_of_trainings']\n",
        "test['tot_score'] = test['avg_training_score'] * test['no_of_trainings']"
      ],
      "execution_count": 0,
      "outputs": []
    },
    {
      "cell_type": "code",
      "metadata": {
        "id": "qEdyizZlIYN0",
        "colab_type": "code",
        "colab": {}
      },
      "source": [
        "#train.region.value_counts()"
      ],
      "execution_count": 0,
      "outputs": []
    },
    {
      "cell_type": "code",
      "metadata": {
        "id": "NFazoHepmv4Y",
        "colab_type": "code",
        "colab": {}
      },
      "source": [
        "train['previous_year_rating'].replace(np.nan,3.,inplace=True)\n",
        "test['previous_year_rating'].replace(np.nan,3.,inplace=True)"
      ],
      "execution_count": 0,
      "outputs": []
    },
    {
      "cell_type": "code",
      "metadata": {
        "id": "HZmbyh4UlNGa",
        "colab_type": "code",
        "outputId": "ac78852d-2bbe-40ee-f422-ce5648b9a82c",
        "colab": {
          "base_uri": "https://localhost:8080/",
          "height": 342
        }
      },
      "source": [
        "for i in train.columns:\n",
        "    print(i,train[i].unique())"
      ],
      "execution_count": 0,
      "outputs": [
        {
          "output_type": "stream",
          "text": [
            "employee_id [65438 65141  7513  2542 ... 74592 13918 13614 51526]\n",
            "department ['Sales & Marketing' 'Operations' 'Technology' 'Analytics' 'R&D' 'Procurement' 'Finance' 'HR' 'Legal']\n",
            "region ['region_7' 'region_22' 'region_19' 'region_23' 'region_26' 'region_2' 'region_20' 'region_34' 'region_1' 'region_4'\n",
            " 'region_29' 'region_31' 'region_15' 'region_14' 'region_11' 'region_5' 'region_28' 'region_17' 'region_13' 'region_16'\n",
            " 'region_25' 'region_10' 'region_27' 'region_30' 'region_12' 'region_21' 'region_8' 'region_32' 'region_6' 'region_33'\n",
            " 'region_24' 'region_3' 'region_9' 'region_18']\n",
            "education [3 2 1]\n",
            "gender ['f' 'm']\n",
            "recruitment_channel ['sourcing' 'other' 'referred']\n",
            "no_of_trainings [ 1  2  3  4  7  5  6  8 10  9]\n",
            "age [35 30 34 39 45 31 33 28 32 49 37 38 41 27 29 26 24 57 40 42 23 59 44 50 56 20 25 47 36 46 60 43 22 54 58 48 53 55 51\n",
            " 52 21]\n",
            "previous_year_rating [5. 3. 1. 4. 2.]\n",
            "length_of_service [ 8  4  7 10  2  5  6  1  3 16  9 11 26 12 17 14 13 19 15 23 18 20 22 25 28 24 31 21 29 30 34 27 33 32 37]\n",
            "KPIs_met >80% [1 0]\n",
            "awards_won? [0 1]\n",
            "avg_training_score [49 60 50 73 ... 43 97 41 98]\n",
            "is_promoted [0 1]\n",
            "sum_metric [6. 5. 3. 1. 4. 2. 7.]\n",
            "tot_score [ 49  60  50 100 ... 462 375 675 657]\n"
          ],
          "name": "stdout"
        }
      ]
    },
    {
      "cell_type": "code",
      "metadata": {
        "id": "3n0pj9ZylNNn",
        "colab_type": "code",
        "outputId": "314b44b8-79ac-43d6-ca6e-c8c7bdf8adb6",
        "colab": {
          "base_uri": "https://localhost:8080/",
          "height": 293
        }
      },
      "source": [
        "train.isna().sum()"
      ],
      "execution_count": 0,
      "outputs": [
        {
          "output_type": "execute_result",
          "data": {
            "text/plain": [
              "employee_id             0\n",
              "department              0\n",
              "region                  0\n",
              "education               0\n",
              "gender                  0\n",
              "recruitment_channel     0\n",
              "no_of_trainings         0\n",
              "age                     0\n",
              "previous_year_rating    0\n",
              "length_of_service       0\n",
              "KPIs_met >80%           0\n",
              "awards_won?             0\n",
              "avg_training_score      0\n",
              "is_promoted             0\n",
              "sum_metric              0\n",
              "tot_score               0\n",
              "dtype: int64"
            ]
          },
          "metadata": {
            "tags": []
          },
          "execution_count": 58
        }
      ]
    },
    {
      "cell_type": "code",
      "metadata": {
        "id": "pOQT2vWelNK3",
        "colab_type": "code",
        "outputId": "53d0ef25-0c02-4550-855d-4f83272a7536",
        "colab": {
          "base_uri": "https://localhost:8080/",
          "height": 815
        }
      },
      "source": [
        "import matplotlib.pyplot as plt\n",
        "import seaborn as sns\n",
        "f,ax=plt.subplots(figsize=(12,12))\n",
        "sns.heatmap(train.corr(),annot=True,linewidths=.5,fmt='.1f',ax=ax)"
      ],
      "execution_count": 0,
      "outputs": [
        {
          "output_type": "execute_result",
          "data": {
            "text/plain": [
              "<matplotlib.axes._subplots.AxesSubplot at 0x7f2871f4b438>"
            ]
          },
          "metadata": {
            "tags": []
          },
          "execution_count": 59
        },
        {
          "output_type": "display_data",
          "data": {
            "image/png": "[encoded data removed]",
            "text/plain": [
              "<Figure size 864x864 with 2 Axes>"
            ]
          },
          "metadata": {
            "tags": []
          }
        }
      ]
    },
    {
      "cell_type": "code",
      "metadata": {
        "id": "MmhUilublND5",
        "colab_type": "code",
        "outputId": "52ab41a7-0a07-4b89-dd4f-c915a15f0a40",
        "colab": {
          "base_uri": "https://localhost:8080/",
          "height": 278
        }
      },
      "source": [
        "train['is_promoted'].value_counts().sort_index().head(20).plot.bar()"
      ],
      "execution_count": 0,
      "outputs": [
        {
          "output_type": "execute_result",
          "data": {
            "text/plain": [
              "<matplotlib.axes._subplots.AxesSubplot at 0x7f28b0475b00>"
            ]
          },
          "metadata": {
            "tags": []
          },
          "execution_count": 60
        },
        {
          "output_type": "display_data",
          "data": {
            "image/png": "[encoded data removed]",
            "text/plain": [
              "<Figure size 432x288 with 1 Axes>"
            ]
          },
          "metadata": {
            "tags": []
          }
        }
      ]
    },
    {
      "cell_type": "code",
      "metadata": {
        "id": "ByztLjE2lNBX",
        "colab_type": "code",
        "colab": {}
      },
      "source": [
        "from sklearn import preprocessing\n",
        "le = preprocessing.LabelEncoder()\n",
        "\n",
        "train['department'] = le.fit_transform(train['department'])\n",
        "test['department'] = le.transform(test['department'])"
      ],
      "execution_count": 0,
      "outputs": []
    },
    {
      "cell_type": "code",
      "metadata": {
        "id": "0MZMTp2FlM9q",
        "colab_type": "code",
        "colab": {}
      },
      "source": [
        "train['region'] = le.fit_transform(train['region'])\n",
        "test['region'] = le.transform(test['region'])\n",
        "#train['education'] = le.fit_transform(train['education'])\n",
        "#test['education'] = le.transform(test['education'])\n",
        "train['gender'] = le.fit_transform(train['gender'])\n",
        "test['gender'] = le.transform(test['gender'])"
      ],
      "execution_count": 0,
      "outputs": []
    },
    {
      "cell_type": "code",
      "metadata": {
        "id": "3PL-1sGqqQYb",
        "colab_type": "code",
        "outputId": "b63b8be3-fe3a-456d-8f4d-c7b1f4fc4fbb",
        "colab": {
          "base_uri": "https://localhost:8080/",
          "height": 33
        }
      },
      "source": [
        "train.shape,test.shape\n"
      ],
      "execution_count": 0,
      "outputs": [
        {
          "output_type": "execute_result",
          "data": {
            "text/plain": [
              "((54808, 16), (23490, 15))"
            ]
          },
          "metadata": {
            "tags": []
          },
          "execution_count": 63
        }
      ]
    },
    {
      "cell_type": "code",
      "metadata": {
        "id": "5BezhYgGmIiQ",
        "colab_type": "code",
        "colab": {}
      },
      "source": [
        "targetvar =train['is_promoted'] \n",
        "train=train.drop(['employee_id','recruitment_channel','is_promoted'],axis=1)\n",
        "test=test.drop(['employee_id','recruitment_channel'],axis=1)\n",
        "#'recruitment_channel','employee_id'\n",
        "#train=train.drop(['is_promoted'],axis=1)"
      ],
      "execution_count": 0,
      "outputs": []
    },
    {
      "cell_type": "code",
      "metadata": {
        "id": "UgTzz7nvo4zp",
        "colab_type": "code",
        "colab": {}
      },
      "source": [
        "from sklearn.decomposition import PCA\n",
        "pca = PCA(n_components=2)\n",
        "pca.fit(train)\n",
        "train_pca = pca.transform(train)\n",
        "test_pca = pca.transform(test)\n",
        "\n",
        "principalDftrain = pd.DataFrame(data = train_pca, columns = ['principal component 1', 'principal component 2'])\n",
        "principalDftest = pd.DataFrame(data = test_pca, columns = ['principal component 1', 'principal component 2'])\n",
        "\n",
        "train = pd.concat([principalDftrain, train], axis = 1)\n",
        "test = pd.concat([principalDftest, test], axis = 1)\n",
        "\n",
        "\n",
        "#train=np.column_stack((train,train_pca))\n",
        "#test=np.column_stack((test,test_pca))"
      ],
      "execution_count": 0,
      "outputs": []
    },
    {
      "cell_type": "code",
      "metadata": {
        "id": "xJeUxXzPqgA-",
        "colab_type": "code",
        "colab": {}
      },
      "source": [
        "train = pd.concat([train,targetvar], axis = 1)"
      ],
      "execution_count": 0,
      "outputs": []
    },
    {
      "cell_type": "code",
      "metadata": {
        "id": "Di3SmI2OysIR",
        "colab_type": "code",
        "colab": {}
      },
      "source": [
        "train['work_fraction'] = train['length_of_service'] / train['age']\n",
        "test['work_fraction'] = test['length_of_service'] / test['age']\n",
        "train['start_year'] = train['age'] - train['length_of_service']\n",
        "test['start_year'] = test['age'] - test['length_of_service']"
      ],
      "execution_count": 0,
      "outputs": []
    },
    {
      "cell_type": "code",
      "metadata": {
        "id": "7ID5HzQfIZVK",
        "colab_type": "code",
        "colab": {}
      },
      "source": [
        "# Create Tabular Data set"
      ],
      "execution_count": 0,
      "outputs": []
    },
    {
      "cell_type": "code",
      "metadata": {
        "id": "H3f60fUkLSlg",
        "colab_type": "code",
        "outputId": "f8342a05-5d0a-45cc-ee1e-5e232a5dd501",
        "colab": {
          "base_uri": "https://localhost:8080/",
          "height": 33
        }
      },
      "source": [
        "test.shape,train.shape,submit.shape\n",
        "#valid_idx = range(len(train)-10962, len(train))"
      ],
      "execution_count": 0,
      "outputs": [
        {
          "output_type": "execute_result",
          "data": {
            "text/plain": [
              "((23490, 15), (54808, 16), (23490, 2))"
            ]
          },
          "metadata": {
            "tags": []
          },
          "execution_count": 69
        }
      ]
    },
    {
      "cell_type": "code",
      "metadata": {
        "id": "IbtmXKiXIZVO",
        "colab_type": "code",
        "colab": {}
      },
      "source": [
        "train.columns\n",
        "catnames = ['department', 'region', 'education', 'gender',]\n",
        "contvars= ['no_of_trainings', 'age', 'previous_year_rating','length_of_service', 'KPIs_met >80%', 'awards_won?','avg_training_score','sum_metric',\n",
        "           'tot_score','principal component 1', 'principal component 2','work_fraction','start_year']\n",
        "dep_var  = 'is_promoted'"
      ],
      "execution_count": 0,
      "outputs": []
    },
    {
      "cell_type": "code",
      "metadata": {
        "id": "EcduI_c91XHz",
        "colab_type": "code",
        "colab": {}
      },
      "source": [
        "procs = [FillMissing, Categorify, Normalize]\n",
        "#data = TabularDataBunch.from_df(path, train, dep_var, valid_idx=valid_idx, procs=procs, cat_names=cat_names)\n",
        "\n",
        "data = (TabularList.from_df(train, procs=procs, cont_names=contvars, cat_names=catnames)\n",
        "        .split_by_idx(valid_idx=range(int(len(train)*0.85),len(train)))\n",
        "        .label_from_df(cols=dep_var)\n",
        "        .add_test(TabularList.from_df(test, cat_names=catnames, cont_names=contvars, procs=procs))\n",
        "        .databunch())\n"
      ],
      "execution_count": 0,
      "outputs": []
    },
    {
      "cell_type": "code",
      "metadata": {
        "id": "TRAyLGEg27fl",
        "colab_type": "code",
        "outputId": "ca34cde0-2c0b-4e95-c601-044b49b634c2",
        "colab": {
          "base_uri": "https://localhost:8080/",
          "height": 76
        }
      },
      "source": [
        "#F1 = partial(MultiLabelFbeta, beta=1, average=\"macro\")\n",
        "weights = [0.3, 1]\n",
        "class_weights=torch.FloatTensor(weights).cuda()\n",
        "\n",
        "\n",
        "from sklearn.metrics import f1_score\n",
        "#f_score = partial(fbeta, sigmoid=True, beta = 1)\n",
        "#,loss_func=imbalance_loss_func\n",
        "\n",
        "#x.cpu().numpy()\n",
        "def f1(preds, targs):\n",
        "    pred_prob, pred_class = preds.max(1)\n",
        "    preds = pred_class.cpu().numpy().astype(np.int)\n",
        "    targs = targs.cpu().numpy().astype(np.int)\n",
        "    #print(preds)\n",
        "    #print(targs)\n",
        "    with warnings.catch_warnings():\n",
        "        warnings.simplefilter(\"ignore\")\n",
        "        return f1_score(targs, preds)\n",
        "                        \n",
        "learn = tabular_learner(data, layers=[300,100], emb_szs={'department': 2,'region': 2,'education': 2,}, metrics=[FBeta()],wd=0.01)\n",
        "\n",
        "learn.crit = nn.CrossEntropyLoss(weight=class_weights)\n",
        "learn.fit_one_cycle(1, 1e-2)"
      ],
      "execution_count": 0,
      "outputs": [
        {
          "output_type": "display_data",
          "data": {
            "text/html": [
              "<table border=\"1\" class=\"dataframe\">\n",
              "  <thead>\n",
              "    <tr style=\"text-align: left;\">\n",
              "      <th>epoch</th>\n",
              "      <th>train_loss</th>\n",
              "      <th>valid_loss</th>\n",
              "      <th>f_beta</th>\n",
              "      <th>time</th>\n",
              "    </tr>\n",
              "  </thead>\n",
              "  <tbody>\n",
              "    <tr>\n",
              "      <td>0</td>\n",
              "      <td>0.167766</td>\n",
              "      <td>0.171549</td>\n",
              "      <td>0.367306</td>\n",
              "      <td>00:07</td>\n",
              "    </tr>\n",
              "  </tbody>\n",
              "</table>"
            ],
            "text/plain": [
              "<IPython.core.display.HTML object>"
            ]
          },
          "metadata": {
            "tags": []
          }
        }
      ]
    },
    {
      "cell_type": "code",
      "metadata": {
        "id": "LziUUyjn27xb",
        "colab_type": "code",
        "outputId": "d59cce47-2768-4bf3-9408-0dace404c0ef",
        "colab": {
          "base_uri": "https://localhost:8080/",
          "height": 108
        }
      },
      "source": [
        "learn.lr_find()"
      ],
      "execution_count": 0,
      "outputs": [
        {
          "output_type": "display_data",
          "data": {
            "text/html": [
              "\n",
              "    <div>\n",
              "        <style>\n",
              "            /* Turns off some styling */\n",
              "            progress {\n",
              "                /* gets rid of default border in Firefox and Opera. */\n",
              "                border: none;\n",
              "                /* Needs to be in here for Safari polyfill so background images work as expected. */\n",
              "                background-size: auto;\n",
              "            }\n",
              "            .progress-bar-interrupted, .progress-bar-interrupted::-webkit-progress-bar {\n",
              "                background: #F44336;\n",
              "            }\n",
              "        </style>\n",
              "      <progress value='0' class='' max='1', style='width:300px; height:20px; vertical-align: middle;'></progress>\n",
              "      0.00% [0/1 00:00<00:00]\n",
              "    </div>\n",
              "    \n",
              "<table border=\"1\" class=\"dataframe\">\n",
              "  <thead>\n",
              "    <tr style=\"text-align: left;\">\n",
              "      <th>epoch</th>\n",
              "      <th>train_loss</th>\n",
              "      <th>valid_loss</th>\n",
              "      <th>f_beta</th>\n",
              "      <th>time</th>\n",
              "    </tr>\n",
              "  </thead>\n",
              "  <tbody>\n",
              "  </tbody>\n",
              "</table><p>\n",
              "\n",
              "    <div>\n",
              "        <style>\n",
              "            /* Turns off some styling */\n",
              "            progress {\n",
              "                /* gets rid of default border in Firefox and Opera. */\n",
              "                border: none;\n",
              "                /* Needs to be in here for Safari polyfill so background images work as expected. */\n",
              "                background-size: auto;\n",
              "            }\n",
              "            .progress-bar-interrupted, .progress-bar-interrupted::-webkit-progress-bar {\n",
              "                background: #F44336;\n",
              "            }\n",
              "        </style>\n",
              "      <progress value='71' class='' max='727', style='width:300px; height:20px; vertical-align: middle;'></progress>\n",
              "      9.77% [71/727 00:00<00:06 0.1712]\n",
              "    </div>\n",
              "    "
            ],
            "text/plain": [
              "<IPython.core.display.HTML object>"
            ]
          },
          "metadata": {
            "tags": []
          }
        },
        {
          "output_type": "stream",
          "text": [
            "LR Finder is complete, type {learner_name}.recorder.plot() to see the graph.\n"
          ],
          "name": "stdout"
        }
      ]
    },
    {
      "cell_type": "code",
      "metadata": {
        "id": "S1W13Z8L270j",
        "colab_type": "code",
        "outputId": "390ac18c-e5e4-446a-a649-11c1a762855a",
        "colab": {
          "base_uri": "https://localhost:8080/",
          "height": 278
        }
      },
      "source": [
        "learn.recorder.plot()"
      ],
      "execution_count": 0,
      "outputs": [
        {
          "output_type": "display_data",
          "data": {
            "image/png": "[encoded data removed]",
            "text/plain": [
              "<Figure size 432x288 with 1 Axes>"
            ]
          },
          "metadata": {
            "tags": []
          }
        }
      ]
    },
    {
      "cell_type": "code",
      "metadata": {
        "id": "0-mAXlH5K-50",
        "colab_type": "code",
        "outputId": "40785607-1de1-4308-8b2f-ae9a68f60baf",
        "colab": {
          "base_uri": "https://localhost:8080/",
          "height": 191
        }
      },
      "source": [
        "learn.fit_one_cycle(5,slice(1e-3))"
      ],
      "execution_count": 0,
      "outputs": [
        {
          "output_type": "display_data",
          "data": {
            "text/html": [
              "<table border=\"1\" class=\"dataframe\">\n",
              "  <thead>\n",
              "    <tr style=\"text-align: left;\">\n",
              "      <th>epoch</th>\n",
              "      <th>train_loss</th>\n",
              "      <th>valid_loss</th>\n",
              "      <th>f_beta</th>\n",
              "      <th>time</th>\n",
              "    </tr>\n",
              "  </thead>\n",
              "  <tbody>\n",
              "    <tr>\n",
              "      <td>0</td>\n",
              "      <td>0.162170</td>\n",
              "      <td>0.173100</td>\n",
              "      <td>0.361286</td>\n",
              "      <td>00:07</td>\n",
              "    </tr>\n",
              "    <tr>\n",
              "      <td>1</td>\n",
              "      <td>0.159439</td>\n",
              "      <td>0.169305</td>\n",
              "      <td>0.367428</td>\n",
              "      <td>00:07</td>\n",
              "    </tr>\n",
              "    <tr>\n",
              "      <td>2</td>\n",
              "      <td>0.173221</td>\n",
              "      <td>0.166385</td>\n",
              "      <td>0.372024</td>\n",
              "      <td>00:08</td>\n",
              "    </tr>\n",
              "    <tr>\n",
              "      <td>3</td>\n",
              "      <td>0.167837</td>\n",
              "      <td>0.165200</td>\n",
              "      <td>0.382334</td>\n",
              "      <td>00:07</td>\n",
              "    </tr>\n",
              "    <tr>\n",
              "      <td>4</td>\n",
              "      <td>0.162590</td>\n",
              "      <td>0.165192</td>\n",
              "      <td>0.377763</td>\n",
              "      <td>00:07</td>\n",
              "    </tr>\n",
              "  </tbody>\n",
              "</table>"
            ],
            "text/plain": [
              "<IPython.core.display.HTML object>"
            ]
          },
          "metadata": {
            "tags": []
          }
        }
      ]
    },
    {
      "cell_type": "code",
      "metadata": {
        "id": "ewoy7rVg67m6",
        "colab_type": "code",
        "outputId": "04ca46b6-8004-49b6-d57b-5a6e88ebdeb1",
        "colab": {
          "base_uri": "https://localhost:8080/",
          "height": 478
        }
      },
      "source": [
        "learn.unfreeze()\n",
        "learn.fit_one_cycle(15,slice(1e-2))\n",
        "#learn.fit_one_cycle(3,1e-1)  #max_lr=slice(1e-1,1e-5))\n",
        "#learn.fit_one_cycle(20, slice(1e-2))"
      ],
      "execution_count": 0,
      "outputs": [
        {
          "output_type": "display_data",
          "data": {
            "text/html": [
              "<table border=\"1\" class=\"dataframe\">\n",
              "  <thead>\n",
              "    <tr style=\"text-align: left;\">\n",
              "      <th>epoch</th>\n",
              "      <th>train_loss</th>\n",
              "      <th>valid_loss</th>\n",
              "      <th>f_beta</th>\n",
              "      <th>time</th>\n",
              "    </tr>\n",
              "  </thead>\n",
              "  <tbody>\n",
              "    <tr>\n",
              "      <td>0</td>\n",
              "      <td>0.166394</td>\n",
              "      <td>0.171693</td>\n",
              "      <td>0.362583</td>\n",
              "      <td>00:07</td>\n",
              "    </tr>\n",
              "    <tr>\n",
              "      <td>1</td>\n",
              "      <td>0.183797</td>\n",
              "      <td>0.180652</td>\n",
              "      <td>0.345286</td>\n",
              "      <td>00:07</td>\n",
              "    </tr>\n",
              "    <tr>\n",
              "      <td>2</td>\n",
              "      <td>0.173443</td>\n",
              "      <td>0.173374</td>\n",
              "      <td>0.335447</td>\n",
              "      <td>00:07</td>\n",
              "    </tr>\n",
              "    <tr>\n",
              "      <td>3</td>\n",
              "      <td>0.173010</td>\n",
              "      <td>0.178285</td>\n",
              "      <td>0.296696</td>\n",
              "      <td>00:07</td>\n",
              "    </tr>\n",
              "    <tr>\n",
              "      <td>4</td>\n",
              "      <td>0.171296</td>\n",
              "      <td>0.169843</td>\n",
              "      <td>0.372024</td>\n",
              "      <td>00:08</td>\n",
              "    </tr>\n",
              "    <tr>\n",
              "      <td>5</td>\n",
              "      <td>0.176446</td>\n",
              "      <td>0.170210</td>\n",
              "      <td>0.352277</td>\n",
              "      <td>00:08</td>\n",
              "    </tr>\n",
              "    <tr>\n",
              "      <td>6</td>\n",
              "      <td>0.160856</td>\n",
              "      <td>0.170060</td>\n",
              "      <td>0.362823</td>\n",
              "      <td>00:07</td>\n",
              "    </tr>\n",
              "    <tr>\n",
              "      <td>7</td>\n",
              "      <td>0.170471</td>\n",
              "      <td>0.166402</td>\n",
              "      <td>0.388907</td>\n",
              "      <td>00:07</td>\n",
              "    </tr>\n",
              "    <tr>\n",
              "      <td>8</td>\n",
              "      <td>0.176318</td>\n",
              "      <td>0.166388</td>\n",
              "      <td>0.381328</td>\n",
              "      <td>00:07</td>\n",
              "    </tr>\n",
              "    <tr>\n",
              "      <td>9</td>\n",
              "      <td>0.166250</td>\n",
              "      <td>0.166490</td>\n",
              "      <td>0.364964</td>\n",
              "      <td>00:07</td>\n",
              "    </tr>\n",
              "    <tr>\n",
              "      <td>10</td>\n",
              "      <td>0.160977</td>\n",
              "      <td>0.168634</td>\n",
              "      <td>0.389803</td>\n",
              "      <td>00:07</td>\n",
              "    </tr>\n",
              "    <tr>\n",
              "      <td>11</td>\n",
              "      <td>0.165021</td>\n",
              "      <td>0.165236</td>\n",
              "      <td>0.379914</td>\n",
              "      <td>00:07</td>\n",
              "    </tr>\n",
              "    <tr>\n",
              "      <td>12</td>\n",
              "      <td>0.158777</td>\n",
              "      <td>0.164848</td>\n",
              "      <td>0.381188</td>\n",
              "      <td>00:07</td>\n",
              "    </tr>\n",
              "    <tr>\n",
              "      <td>13</td>\n",
              "      <td>0.159338</td>\n",
              "      <td>0.164886</td>\n",
              "      <td>0.372393</td>\n",
              "      <td>00:07</td>\n",
              "    </tr>\n",
              "    <tr>\n",
              "      <td>14</td>\n",
              "      <td>0.164743</td>\n",
              "      <td>0.164531</td>\n",
              "      <td>0.385630</td>\n",
              "      <td>00:07</td>\n",
              "    </tr>\n",
              "  </tbody>\n",
              "</table>"
            ],
            "text/plain": [
              "<IPython.core.display.HTML object>"
            ]
          },
          "metadata": {
            "tags": []
          }
        }
      ]
    },
    {
      "cell_type": "code",
      "metadata": {
        "id": "ebaK01fz67iU",
        "colab_type": "code",
        "outputId": "ad6fa57e-c331-4fc0-e411-96b7482627ae",
        "colab": {
          "base_uri": "https://localhost:8080/",
          "height": 17
        }
      },
      "source": [
        "preds, _ = learn.get_preds(ds_type=DatasetType.Test)\n",
        "pred_prob, pred_class = preds.max(1)\n",
        "submission = pd.DataFrame({'employee_id':submit['employee_id'],'is_promoted':pred_class})"
      ],
      "execution_count": 0,
      "outputs": [
        {
          "output_type": "display_data",
          "data": {
            "text/html": [
              ""
            ],
            "text/plain": [
              "<IPython.core.display.HTML object>"
            ]
          },
          "metadata": {
            "tags": []
          }
        }
      ]
    },
    {
      "cell_type": "code",
      "metadata": {
        "id": "OR4Bqooi-hB6",
        "colab_type": "code",
        "colab": {}
      },
      "source": [
        "submission.to_csv(path+'Submit_result3.csv')"
      ],
      "execution_count": 0,
      "outputs": []
    },
    {
      "cell_type": "markdown",
      "metadata": {
        "id": "5S6Oy9WT83rC",
        "colab_type": "text"
      },
      "source": [
        ""
      ]
    },
    {
      "cell_type": "code",
      "metadata": {
        "id": "8CoRMxjf67Yh",
        "colab_type": "code",
        "colab": {}
      },
      "source": [
        "#LGBM"
      ],
      "execution_count": 0,
      "outputs": []
    },
    {
      "cell_type": "code",
      "metadata": {
        "id": "Vm2zD5GbIZWP",
        "colab_type": "code",
        "colab": {}
      },
      "source": [
        "# To calculate F1 score\n",
        "from sklearn.metrics import f1_score\n",
        "\n",
        "def lgb_f1_score(y_hat, data):\n",
        "    y_true = data.get_label()\n",
        "    y_hat = np.round(y_hat) # scikits f1 doesn't like probabilities\n",
        "    return 'f1', f1_score(y_true, y_hat), True"
      ],
      "execution_count": 0,
      "outputs": []
    },
    {
      "cell_type": "code",
      "metadata": {
        "id": "EZDTRFTgtga2",
        "colab_type": "code",
        "colab": {}
      },
      "source": [
        "def run_lgb(X_train, X_test, y_train, y_test, test_df):\n",
        "    params = {\n",
        "        \"objective\" : \"binary\",\n",
        "       \"n_estimators\":10000,\n",
        "       \"reg_alpha\" : 0.1,\n",
        "       \"reg_lambda\":0.1,\n",
        "       \"n_jobs\":-1,\n",
        "       \"colsample_bytree\":.8,\n",
        "       \"min_child_weight\":8,\n",
        "       \"subsample\":0.8715623,\n",
        "       \"min_data_in_leaf\":100,\n",
        "       \"nthread\":4,\n",
        "       \"metric\" : \"f1\",\n",
        "       \"num_leaves\" : 600,\n",
        "       \"learning_rate\" : 0.01,\n",
        "       \"verbosity\" : -1,\n",
        "       \"seed\": 120,\n",
        "       \"max_bin\":60,\n",
        "       'max_depth':15,\n",
        "       'min_gain_to_split':.0222415,\n",
        "       'scale_pos_weight':2\n",
        "    }\n",
        "    \n",
        "    lgtrain = lgb.Dataset(X_train, label=y_train)\n",
        "    lgval = lgb.Dataset(X_test, label=y_test)\n",
        "    evals_result = {}\n",
        "    model = lgb.train(params, lgtrain, 10000, \n",
        "                      valid_sets=[lgtrain, lgval], \n",
        "                      early_stopping_rounds=100, \n",
        "                      verbose_eval=100, \n",
        "                      evals_result=evals_result,feval=lgb_f1_score)\n",
        "    \n",
        "    pred_test_y = model.predict(test_df, num_iteration=model.best_iteration)\n",
        "    return pred_test_y, model, evals_result"
      ],
      "execution_count": 0,
      "outputs": []
    },
    {
      "cell_type": "code",
      "metadata": {
        "id": "GHR94TC01YbZ",
        "colab_type": "code",
        "colab": {}
      },
      "source": [
        "targetvar =train['is_promoted'] \n",
        "train=train.drop(['is_promoted'],axis=1)\n",
        "#test=test.drop(['employee_id','recruitment_channel'],axis=1)"
      ],
      "execution_count": 0,
      "outputs": []
    },
    {
      "cell_type": "code",
      "metadata": {
        "id": "JODAc2ZY_DlK",
        "colab_type": "code",
        "colab": {}
      },
      "source": [
        "submit = pd.read_csv(path+'sample_submission.csv')"
      ],
      "execution_count": 0,
      "outputs": []
    },
    {
      "cell_type": "code",
      "metadata": {
        "id": "9iWDBWCqtjvx",
        "colab_type": "code",
        "outputId": "9357fc8a-f3dc-485a-b34e-3cd3e60013a5",
        "colab": {
          "base_uri": "https://localhost:8080/",
          "height": 1000
        }
      },
      "source": [
        "%%time\n",
        "from sklearn.model_selection import KFold, StratifiedKFold\n",
        "import lightgbm as lgb\n",
        "\n",
        "folds = StratifiedKFold(n_splits=10, shuffle=True, random_state=2333)\n",
        "oof = np.zeros(len(train))\n",
        "predictions = np.zeros(len(test))\n",
        "\n",
        "for fold_, (trn_idx, val_idx) in enumerate(folds.split(train,targetvar.values)):\n",
        "    print(\"fold {}\".format(fold_))\n",
        "    trn_data = lgb.Dataset(train.iloc[trn_idx], label=targetvar.iloc[trn_idx])\n",
        "    val_data = lgb.Dataset(train.iloc[val_idx], label=targetvar.iloc[val_idx])\n",
        "\n",
        "    pred_test, model, evals_result = run_lgb(train.iloc[trn_idx], train.iloc[val_idx], targetvar.iloc[trn_idx], targetvar.iloc[val_idx], test)\n",
        "    #predictions += pred_test/folds.n_splits\n",
        "    #predictions += pred_test\n",
        "    submit['fold{}'.format(fold_+1)] = pred_test #/folds.n_splits\n",
        "\n",
        "print(\"LightGBM Training Completed...\")\n"
      ],
      "execution_count": 0,
      "outputs": [
        {
          "output_type": "stream",
          "text": [
            "fold 0\n",
            "Training until validation scores don't improve for 100 rounds.\n",
            "[100]\ttraining's f1: 0.376226\tvalid_1's f1: 0.339223\n",
            "[200]\ttraining's f1: 0.520726\tvalid_1's f1: 0.461295\n",
            "[300]\ttraining's f1: 0.554023\tvalid_1's f1: 0.490166\n",
            "[400]\ttraining's f1: 0.58352\tvalid_1's f1: 0.497024\n",
            "[500]\ttraining's f1: 0.603394\tvalid_1's f1: 0.497791\n",
            "Early stopping, best iteration is:\n",
            "[451]\ttraining's f1: 0.596269\tvalid_1's f1: 0.502216\n",
            "fold 1\n",
            "Training until validation scores don't improve for 100 rounds.\n",
            "[100]\ttraining's f1: 0.378171\tvalid_1's f1: 0.405451\n",
            "[200]\ttraining's f1: 0.508463\tvalid_1's f1: 0.502311\n",
            "[300]\ttraining's f1: 0.552701\tvalid_1's f1: 0.528302\n",
            "[400]\ttraining's f1: 0.580096\tvalid_1's f1: 0.535613\n",
            "[500]\ttraining's f1: 0.604154\tvalid_1's f1: 0.538028\n",
            "Early stopping, best iteration is:\n",
            "[417]\ttraining's f1: 0.584719\tvalid_1's f1: 0.538462\n",
            "fold 2\n",
            "Training until validation scores don't improve for 100 rounds.\n",
            "[100]\ttraining's f1: 0.393156\tvalid_1's f1: 0.323268\n",
            "[200]\ttraining's f1: 0.517667\tvalid_1's f1: 0.442675\n",
            "[300]\ttraining's f1: 0.560236\tvalid_1's f1: 0.469697\n",
            "[400]\ttraining's f1: 0.583653\tvalid_1's f1: 0.480826\n",
            "[500]\ttraining's f1: 0.606583\tvalid_1's f1: 0.486172\n",
            "[600]\ttraining's f1: 0.632258\tvalid_1's f1: 0.492795\n",
            "[700]\ttraining's f1: 0.650402\tvalid_1's f1: 0.492086\n",
            "Early stopping, best iteration is:\n",
            "[649]\ttraining's f1: 0.641366\tvalid_1's f1: 0.497126\n",
            "fold 3\n",
            "Training until validation scores don't improve for 100 rounds.\n",
            "[100]\ttraining's f1: 0.392993\tvalid_1's f1: 0.379965\n",
            "[200]\ttraining's f1: 0.523728\tvalid_1's f1: 0.487654\n",
            "[300]\ttraining's f1: 0.558162\tvalid_1's f1: 0.497041\n",
            "[400]\ttraining's f1: 0.586565\tvalid_1's f1: 0.506438\n",
            "[500]\ttraining's f1: 0.608246\tvalid_1's f1: 0.507082\n",
            "Early stopping, best iteration is:\n",
            "[408]\ttraining's f1: 0.58696\tvalid_1's f1: 0.510029\n",
            "fold 4\n",
            "Training until validation scores don't improve for 100 rounds.\n",
            "[100]\ttraining's f1: 0.387775\tvalid_1's f1: 0.364583\n",
            "[200]\ttraining's f1: 0.519293\tvalid_1's f1: 0.493789\n",
            "[300]\ttraining's f1: 0.552359\tvalid_1's f1: 0.513514\n",
            "Early stopping, best iteration is:\n",
            "[270]\ttraining's f1: 0.544157\tvalid_1's f1: 0.518854\n",
            "fold 5\n",
            "Training until validation scores don't improve for 100 rounds.\n",
            "[100]\ttraining's f1: 0.387638\tvalid_1's f1: 0.369983\n",
            "[200]\ttraining's f1: 0.514551\tvalid_1's f1: 0.501577\n",
            "[300]\ttraining's f1: 0.552961\tvalid_1's f1: 0.522936\n",
            "[400]\ttraining's f1: 0.581142\tvalid_1's f1: 0.518741\n",
            "Early stopping, best iteration is:\n",
            "[341]\ttraining's f1: 0.563953\tvalid_1's f1: 0.528073\n",
            "fold 6\n",
            "Training until validation scores don't improve for 100 rounds.\n",
            "[100]\ttraining's f1: 0.393312\tvalid_1's f1: 0.370884\n",
            "[200]\ttraining's f1: 0.520726\tvalid_1's f1: 0.459843\n",
            "[300]\ttraining's f1: 0.558905\tvalid_1's f1: 0.479042\n",
            "[400]\ttraining's f1: 0.586929\tvalid_1's f1: 0.478582\n",
            "[500]\ttraining's f1: 0.609343\tvalid_1's f1: 0.480349\n",
            "Early stopping, best iteration is:\n",
            "[425]\ttraining's f1: 0.593597\tvalid_1's f1: 0.483871\n",
            "fold 7\n",
            "Training until validation scores don't improve for 100 rounds.\n",
            "[100]\ttraining's f1: 0.37524\tvalid_1's f1: 0.34507\n",
            "[200]\ttraining's f1: 0.515361\tvalid_1's f1: 0.501548\n",
            "[300]\ttraining's f1: 0.558269\tvalid_1's f1: 0.510386\n",
            "[400]\ttraining's f1: 0.58112\tvalid_1's f1: 0.516035\n",
            "[500]\ttraining's f1: 0.608233\tvalid_1's f1: 0.524496\n",
            "[600]\ttraining's f1: 0.632985\tvalid_1's f1: 0.524964\n",
            "[700]\ttraining's f1: 0.651508\tvalid_1's f1: 0.528409\n",
            "[800]\ttraining's f1: 0.665164\tvalid_1's f1: 0.525281\n",
            "Early stopping, best iteration is:\n",
            "[759]\ttraining's f1: 0.659931\tvalid_1's f1: 0.531073\n",
            "fold 8\n",
            "Training until validation scores don't improve for 100 rounds.\n",
            "[100]\ttraining's f1: 0.385409\tvalid_1's f1: 0.339823\n",
            "[200]\ttraining's f1: 0.519904\tvalid_1's f1: 0.479624\n",
            "[300]\ttraining's f1: 0.560562\tvalid_1's f1: 0.502256\n",
            "[400]\ttraining's f1: 0.584767\tvalid_1's f1: 0.502941\n",
            "Early stopping, best iteration is:\n",
            "[324]\ttraining's f1: 0.564992\tvalid_1's f1: 0.507463\n",
            "fold 9\n",
            "Training until validation scores don't improve for 100 rounds.\n",
            "[100]\ttraining's f1: 0.365467\tvalid_1's f1: 0.330373\n",
            "[200]\ttraining's f1: 0.515553\tvalid_1's f1: 0.482115\n",
            "[300]\ttraining's f1: 0.551962\tvalid_1's f1: 0.506706\n",
            "[400]\ttraining's f1: 0.582908\tvalid_1's f1: 0.516035\n",
            "[500]\ttraining's f1: 0.599843\tvalid_1's f1: 0.520626\n",
            "Early stopping, best iteration is:\n",
            "[489]\ttraining's f1: 0.597071\tvalid_1's f1: 0.523605\n",
            "LightGBM Training Completed...\n",
            "CPU times: user 3min 25s, sys: 2.23 s, total: 3min 27s\n",
            "Wall time: 3min 27s\n"
          ],
          "name": "stdout"
        }
      ]
    },
    {
      "cell_type": "code",
      "metadata": {
        "id": "dpCDOReVAodc",
        "colab_type": "code",
        "colab": {}
      },
      "source": [
        "submit['is_promoted'] = np.mean(submit[[col for col in submit.columns if col not in ['employee_id', 'is_promoted']]].values, axis=1)"
      ],
      "execution_count": 0,
      "outputs": []
    },
    {
      "cell_type": "code",
      "metadata": {
        "id": "Xi3iOzg2AxgT",
        "colab_type": "code",
        "colab": {}
      },
      "source": [
        "submit['is_promoted'] = submit['is_promoted'].round(0).astype(int)"
      ],
      "execution_count": 0,
      "outputs": []
    },
    {
      "cell_type": "code",
      "metadata": {
        "id": "FDBzKR5BtsLW",
        "colab_type": "code",
        "colab": {}
      },
      "source": [
        "#submission = pd.DataFrame({'employee_id':submit['employee_id'],'is_promoted':predictions.astype(int)})\n",
        "#submission = submission.reset_index()\n",
        "submit[['employee_id', 'is_promoted']].to_csv(path+'submit_5.csv')"
      ],
      "execution_count": 0,
      "outputs": []
    },
    {
      "cell_type": "code",
      "metadata": {
        "id": "Ewzkps8l6qxu",
        "colab_type": "code",
        "outputId": "2ca0bff7-d16b-4d67-d968-5c02ead05a8b",
        "colab": {
          "base_uri": "https://localhost:8080/",
          "height": 212
        }
      },
      "source": [
        "submit['is_promoted'] "
      ],
      "execution_count": 0,
      "outputs": [
        {
          "output_type": "execute_result",
          "data": {
            "text/plain": [
              "0        0\n",
              "1        0\n",
              "2        0\n",
              "3        0\n",
              "4        0\n",
              "        ..\n",
              "23485    0\n",
              "23486    0\n",
              "23487    0\n",
              "23488    0\n",
              "23489    1\n",
              "Name: is_promoted, Length: 23490, dtype: int64"
            ]
          },
          "metadata": {
            "tags": []
          },
          "execution_count": 147
        }
      ]
    },
    {
      "cell_type": "code",
      "metadata": {
        "id": "UnmUAe397eK3",
        "colab_type": "code",
        "colab": {}
      },
      "source": [
        ""
      ],
      "execution_count": 0,
      "outputs": []
    }
  ]
}