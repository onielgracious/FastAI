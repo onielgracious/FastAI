{
  "nbformat": 4,
  "nbformat_minor": 0,
  "metadata": {
    "hide_input": false,
    "kernelspec": {
      "name": "python3",
      "display_name": "Python 3"
    },
    "language_info": {
      "codemirror_mode": {
        "name": "ipython",
        "version": 3
      },
      "file_extension": ".py",
      "mimetype": "text/x-python",
      "name": "python",
      "nbconvert_exporter": "python",
      "pygments_lexer": "ipython3",
      "version": "3.6.7"
    },
    "varInspector": {
      "cols": {
        "lenName": 16,
        "lenType": 16,
        "lenVar": 40
      },
      "kernels_config": {
        "python": {
          "delete_cmd_postfix": "",
          "delete_cmd_prefix": "del ",
          "library": "var_list.py",
          "varRefreshCmd": "print(var_dic_list())"
        },
        "r": {
          "delete_cmd_postfix": ") ",
          "delete_cmd_prefix": "rm(",
          "library": "var_list.r",
          "varRefreshCmd": "cat(var_dic_list()) "
        }
      },
      "types_to_exclude": [
        "module",
        "function",
        "builtin_function_or_method",
        "instance",
        "_Feature"
      ],
      "window_display": false
    },
    "colab": {
      "name": "fastaijanatahack.ipynb",
      "provenance": []
    },
    "accelerator": "GPU"
  },
  "cells": [
    {
      "cell_type": "code",
      "metadata": {
        "ExecuteTime": {
          "end_time": "2020-04-12T08:44:51.042614Z",
          "start_time": "2020-04-12T08:44:51.039615Z"
        },
        "id": "FoXkIaK5ubRG",
        "colab_type": "code",
        "colab": {}
      },
      "source": [
        "#fast ai"
      ],
      "execution_count": 0,
      "outputs": []
    },
    {
      "cell_type": "code",
      "metadata": {
        "ExecuteTime": {
          "end_time": "2020-04-12T08:45:33.653404Z",
          "start_time": "2020-04-12T08:45:31.173493Z"
        },
        "id": "jccFfxsdubRQ",
        "colab_type": "code",
        "colab": {}
      },
      "source": [
        "%reload_ext autoreload\n",
        "%autoreload 2\n",
        "%matplotlib inline"
      ],
      "execution_count": 0,
      "outputs": []
    },
    {
      "cell_type": "code",
      "metadata": {
        "ExecuteTime": {
          "end_time": "2020-04-12T09:24:59.687665Z",
          "start_time": "2020-04-12T09:24:59.114675Z"
        },
        "id": "-TvEPl6UubRY",
        "colab_type": "code",
        "outputId": "1889644d-3491-4f3d-8508-179d57c66142",
        "colab": {
          "base_uri": "https://localhost:8080/",
          "height": 71
        }
      },
      "source": [
        "import numpy as np\n",
        "import pandas as pd\n",
        "import os\n",
        "import matplotlib.pyplot as plt\n",
        "#import torch\n",
        "#from torch import nn, optim\n",
        "import seaborn as sns\n",
        "from pathlib import Path\n",
        "import PIL\n",
        "import json\n",
        "from fastai import *\n",
        "from fastai.tabular import * "
      ],
      "execution_count": 0,
      "outputs": [
        {
          "output_type": "stream",
          "text": [
            "/usr/local/lib/python3.6/dist-packages/statsmodels/tools/_testing.py:19: FutureWarning: pandas.util.testing is deprecated. Use the functions in the public API at pandas.testing instead.\n",
            "  import pandas.util.testing as tm\n"
          ],
          "name": "stderr"
        }
      ]
    },
    {
      "cell_type": "code",
      "metadata": {
        "id": "qvsN99rMu2g9",
        "colab_type": "code",
        "outputId": "d0c99f28-0218-4e22-be98-ae14c9ff7bbc",
        "colab": {
          "base_uri": "https://localhost:8080/",
          "height": 34
        }
      },
      "source": [
        "from google.colab import drive\n",
        "drive.mount('/content/drive')"
      ],
      "execution_count": 0,
      "outputs": [
        {
          "output_type": "stream",
          "text": [
            "Drive already mounted at /content/drive; to attempt to forcibly remount, call drive.mount(\"/content/drive\", force_remount=True).\n"
          ],
          "name": "stdout"
        }
      ]
    },
    {
      "cell_type": "code",
      "metadata": {
        "id": "bKSKn27pu8pQ",
        "colab_type": "code",
        "outputId": "1be22894-b468-4977-ee25-b93a73b98962",
        "colab": {
          "base_uri": "https://localhost:8080/",
          "height": 85
        }
      },
      "source": [
        "!ls \"drive/My Drive/Colab Notebooks/Tabular/Janata/inputs\""
      ],
      "execution_count": 0,
      "outputs": [
        {
          "output_type": "stream",
          "text": [
            "final_submission.csv\t\t      sample_submission_12th_April_9.csv\n",
            "models\t\t\t\t      sample_submission.csv\n",
            "sample_submission_11th_April_1.2.csv  test.csv\n",
            "sample_submission_11th_April_1.3.csv  train.csv\n"
          ],
          "name": "stdout"
        }
      ]
    },
    {
      "cell_type": "code",
      "metadata": {
        "ExecuteTime": {
          "end_time": "2020-04-12T09:23:04.526590Z",
          "start_time": "2020-04-12T09:23:03.639595Z"
        },
        "id": "kdBGn9-nubRh",
        "colab_type": "code",
        "colab": {}
      },
      "source": [
        "# Read data\n",
        "train = pd.read_csv('drive/My Drive/Colab Notebooks/Tabular/Janata/inputs/train.csv')\n",
        "test = pd.read_csv('drive/My Drive/Colab Notebooks/Tabular/Janata/inputs/test.csv')\n",
        "sample_sub  = pd.read_csv('drive/My Drive/Colab Notebooks/Tabular/Janata/inputs/sample_submission.csv') "
      ],
      "execution_count": 0,
      "outputs": []
    },
    {
      "cell_type": "code",
      "metadata": {
        "id": "PYvmI0yXubRo",
        "colab_type": "code",
        "colab": {}
      },
      "source": [
        "#feature engineering and data prep"
      ],
      "execution_count": 0,
      "outputs": []
    },
    {
      "cell_type": "code",
      "metadata": {
        "id": "ahEB3Z4jubRu",
        "colab_type": "code",
        "colab": {}
      },
      "source": [
        "def extract_product(str):\n",
        "    if \";\"  in str:\n",
        "        prd_lst = str.split(\";\")\n",
        "        count_item = len(prd_lst)\n",
        "        first_lv1 = prd_lst[0].split(\"/\")[0]\n",
        "        first_lv2 = prd_lst[0].split(\"/\")[1]\n",
        "        first_lv3 = prd_lst[0].split(\"/\")[2]\n",
        "        first_lv4 = prd_lst[0].split(\"/\")[3]\n",
        "        \n",
        "        lv1_lst =[]\n",
        "        lv2_lst =[]\n",
        "        lv3_lst =[]\n",
        "        lv4_lst =[]\n",
        "\n",
        "        for item in prd_lst:\n",
        "            lv1_lst.append(item.split(\"/\")[0])\n",
        "            lv2_lst.append(item.split(\"/\")[1])\n",
        "            lv3_lst.append(item.split(\"/\")[2])\n",
        "            lv4_lst.append(item.split(\"/\")[3])\n",
        "            \n",
        "        unique_lv1 = len(set(lv1_lst))\n",
        "        unique_lv2 = len(set(lv2_lst))\n",
        "        unique_lv3 = len(set(lv2_lst))\n",
        "        unique_lv4 = len(set(lv2_lst))\n",
        "        most_freq_lv1 =  max(lv1_lst, key=Counter(lv1_lst).get)  \n",
        "        most_freq_lv4 =  max(lv4_lst, key=Counter(lv4_lst).get)        \n",
        "    else:\n",
        "        lv_lst = str.split(\"/\")\n",
        "        first_lv1 = lv_lst[0]\n",
        "        first_lv2 = lv_lst[1]\n",
        "        first_lv3 = lv_lst[2]\n",
        "        first_lv4 = lv_lst[3]\n",
        "        \n",
        "        count_item = 1\n",
        "        unique_lv1 = 1\n",
        "        unique_lv2 = 1\n",
        "        unique_lv3 = 1\n",
        "        unique_lv4 = 1\n",
        "        \n",
        "        most_freq_lv1 = first_lv1\n",
        "        most_freq_lv4 = first_lv4\n",
        "    return (count_item,first_lv1,first_lv2,first_lv3,first_lv4,unique_lv1,unique_lv2,unique_lv3,unique_lv4,most_freq_lv1)    "
      ],
      "execution_count": 0,
      "outputs": []
    },
    {
      "cell_type": "code",
      "metadata": {
        "id": "MxO9X88qvSnK",
        "colab_type": "code",
        "colab": {}
      },
      "source": [
        "#Feature Extraction :\n",
        "new_col = ('NumProduct','FirstA','FirstB','FirstC','FirstD','UniqueA','UniqueB','UniqueC','UniqueD','MostA')      \n",
        "#new_col_lst = fullproductlist.apply(lambda x: extract_product(x))    \n",
        "\n",
        "new_col_lst = train['ProductList'].apply(lambda x: extract_product(x))    \n",
        "new_col_df = pd.DataFrame(new_col_lst.tolist(),columns =new_col)\n",
        "train = pd.concat([train, new_col_df], axis=1)\n",
        "\n",
        "new_col_lst = None\n",
        "new_col_df = None\n",
        "\n",
        "new_col_lst = test['ProductList'].apply(lambda x: extract_product(x))    \n",
        "new_col_df = pd.DataFrame(new_col_lst.tolist(),columns =new_col)\n",
        "test = pd.concat([test, new_col_df], axis=1)"
      ],
      "execution_count": 0,
      "outputs": []
    },
    {
      "cell_type": "code",
      "metadata": {
        "id": "IjBGq1ZLvSsY",
        "colab_type": "code",
        "colab": {}
      },
      "source": [
        "# Time feature extraction\n",
        "train['startTime'] = pd.to_datetime(train['startTime'])\n",
        "train['endTime'] = pd.to_datetime(train['endTime'])\n",
        "train['duration'] = train['endTime'] - train['startTime']\n",
        "train['duration'] = train['duration'].astype('timedelta64[m]')\n",
        "train['weekday'] = train['startTime'].dt.dayofweek\n",
        "train['hour_24h'] = train['startTime'].dt.hour"
      ],
      "execution_count": 0,
      "outputs": []
    },
    {
      "cell_type": "code",
      "metadata": {
        "id": "9og4m_5MvSvL",
        "colab_type": "code",
        "colab": {}
      },
      "source": [
        "test['startTime'] = pd.to_datetime(test['startTime'])\n",
        "test['endTime'] = pd.to_datetime(test['endTime'])\n",
        "test['duration'] = test['endTime'] - test['startTime']\n",
        "test['duration'] = test['duration'].astype('timedelta64[m]')\n",
        "test['weekday'] = test['startTime'].dt.dayofweek\n",
        "test['hour_24h'] = test['startTime'].dt.hour"
      ],
      "execution_count": 0,
      "outputs": []
    },
    {
      "cell_type": "code",
      "metadata": {
        "id": "Y-R6vMxoJ_nm",
        "colab_type": "code",
        "colab": {}
      },
      "source": [
        ""
      ],
      "execution_count": 0,
      "outputs": []
    },
    {
      "cell_type": "code",
      "metadata": {
        "id": "G2BRO8iSI-FL",
        "colab_type": "code",
        "colab": {}
      },
      "source": [
        "## Regularized Expanding mean scheme\n",
        "# for features in ['MostA']:\n",
        "#     cumsum = train.groupby([features,'gender']).cumcount()\n",
        "#     #cumcnt = train.groupby(features).cumcount()  \n",
        "    \n",
        "#     train[features + 'meantarget'] = cumsum #/cumcnt\n",
        "#     test[features + 'meantarget'] = cumsum #/cumcnt"
      ],
      "execution_count": 0,
      "outputs": []
    },
    {
      "cell_type": "code",
      "metadata": {
        "id": "hE_l2xc6vSxs",
        "colab_type": "code",
        "colab": {}
      },
      "source": [
        "drop_lst = ['session_id', 'startTime', 'endTime', 'ProductList']"
      ],
      "execution_count": 0,
      "outputs": []
    },
    {
      "cell_type": "code",
      "metadata": {
        "id": "uV7YBRoCvS0P",
        "colab_type": "code",
        "colab": {}
      },
      "source": [
        "#train['gender'] = train['gender'].map({'female':1,'male':0})"
      ],
      "execution_count": 0,
      "outputs": []
    },
    {
      "cell_type": "code",
      "metadata": {
        "id": "4o6czjJhvS22",
        "colab_type": "code",
        "outputId": "d29ee8a3-25d0-47b6-f79c-8d9c87c8bfb3",
        "colab": {
          "base_uri": "https://localhost:8080/",
          "height": 34
        }
      },
      "source": [
        "len(train.columns),len(test.columns)"
      ],
      "execution_count": 0,
      "outputs": [
        {
          "output_type": "execute_result",
          "data": {
            "text/plain": [
              "(18, 17)"
            ]
          },
          "metadata": {
            "tags": []
          },
          "execution_count": 15
        }
      ]
    },
    {
      "cell_type": "code",
      "metadata": {
        "id": "Ed0kXMHDOIaa",
        "colab_type": "code",
        "colab": {}
      },
      "source": [
        "#train[['MostAmeantarget']]"
      ],
      "execution_count": 0,
      "outputs": []
    },
    {
      "cell_type": "code",
      "metadata": {
        "id": "mOOafH0lubRz",
        "colab_type": "code",
        "colab": {}
      },
      "source": [
        "train = train.drop(drop_lst,axis =1 )\n",
        "test = test.drop(drop_lst,axis =1 )"
      ],
      "execution_count": 0,
      "outputs": []
    },
    {
      "cell_type": "code",
      "metadata": {
        "id": "Zs_yW6oIubR9",
        "colab_type": "code",
        "outputId": "913b5aca-571d-4ba7-9505-bf86e30f478a",
        "colab": {
          "base_uri": "https://localhost:8080/",
          "height": 85
        }
      },
      "source": [
        "train.columns"
      ],
      "execution_count": 0,
      "outputs": [
        {
          "output_type": "execute_result",
          "data": {
            "text/plain": [
              "Index(['gender', 'NumProduct', 'FirstA', 'FirstB', 'FirstC', 'FirstD',\n",
              "       'UniqueA', 'UniqueB', 'UniqueC', 'UniqueD', 'MostA', 'duration',\n",
              "       'weekday', 'hour_24h'],\n",
              "      dtype='object')"
            ]
          },
          "metadata": {
            "tags": []
          },
          "execution_count": 18
        }
      ]
    },
    {
      "cell_type": "code",
      "metadata": {
        "id": "IN7Qgu8hwgGV",
        "colab_type": "code",
        "outputId": "51956beb-0be0-41c2-e4aa-68ede3f633e9",
        "colab": {
          "base_uri": "https://localhost:8080/",
          "height": 204
        }
      },
      "source": [
        "train.head()"
      ],
      "execution_count": 0,
      "outputs": [
        {
          "output_type": "execute_result",
          "data": {
            "text/html": [
              "<div>\n",
              "<style scoped>\n",
              "    .dataframe tbody tr th:only-of-type {\n",
              "        vertical-align: middle;\n",
              "    }\n",
              "\n",
              "    .dataframe tbody tr th {\n",
              "        vertical-align: top;\n",
              "    }\n",
              "\n",
              "    .dataframe thead th {\n",
              "        text-align: right;\n",
              "    }\n",
              "</style>\n",
              "<table border=\"1\" class=\"dataframe\">\n",
              "  <thead>\n",
              "    <tr style=\"text-align: right;\">\n",
              "      <th></th>\n",
              "      <th>gender</th>\n",
              "      <th>NumProduct</th>\n",
              "      <th>FirstA</th>\n",
              "      <th>FirstB</th>\n",
              "      <th>FirstC</th>\n",
              "      <th>FirstD</th>\n",
              "      <th>UniqueA</th>\n",
              "      <th>UniqueB</th>\n",
              "      <th>UniqueC</th>\n",
              "      <th>UniqueD</th>\n",
              "      <th>MostA</th>\n",
              "      <th>duration</th>\n",
              "      <th>weekday</th>\n",
              "      <th>hour_24h</th>\n",
              "    </tr>\n",
              "  </thead>\n",
              "  <tbody>\n",
              "    <tr>\n",
              "      <th>0</th>\n",
              "      <td>female</td>\n",
              "      <td>4</td>\n",
              "      <td>A00002</td>\n",
              "      <td>B00003</td>\n",
              "      <td>C00006</td>\n",
              "      <td>D28435</td>\n",
              "      <td>1</td>\n",
              "      <td>1</td>\n",
              "      <td>1</td>\n",
              "      <td>1</td>\n",
              "      <td>A00002</td>\n",
              "      <td>1.0</td>\n",
              "      <td>0</td>\n",
              "      <td>18</td>\n",
              "    </tr>\n",
              "    <tr>\n",
              "      <th>1</th>\n",
              "      <td>male</td>\n",
              "      <td>7</td>\n",
              "      <td>A00001</td>\n",
              "      <td>B00009</td>\n",
              "      <td>C00031</td>\n",
              "      <td>D29404</td>\n",
              "      <td>1</td>\n",
              "      <td>1</td>\n",
              "      <td>1</td>\n",
              "      <td>1</td>\n",
              "      <td>A00001</td>\n",
              "      <td>6.0</td>\n",
              "      <td>1</td>\n",
              "      <td>14</td>\n",
              "    </tr>\n",
              "    <tr>\n",
              "      <th>2</th>\n",
              "      <td>female</td>\n",
              "      <td>1</td>\n",
              "      <td>A00002</td>\n",
              "      <td>B00001</td>\n",
              "      <td>C00020</td>\n",
              "      <td>D16944</td>\n",
              "      <td>1</td>\n",
              "      <td>1</td>\n",
              "      <td>1</td>\n",
              "      <td>1</td>\n",
              "      <td>A00002</td>\n",
              "      <td>0.0</td>\n",
              "      <td>6</td>\n",
              "      <td>15</td>\n",
              "    </tr>\n",
              "    <tr>\n",
              "      <th>3</th>\n",
              "      <td>female</td>\n",
              "      <td>3</td>\n",
              "      <td>A00002</td>\n",
              "      <td>B00004</td>\n",
              "      <td>C00018</td>\n",
              "      <td>D10284</td>\n",
              "      <td>1</td>\n",
              "      <td>1</td>\n",
              "      <td>1</td>\n",
              "      <td>1</td>\n",
              "      <td>A00002</td>\n",
              "      <td>3.0</td>\n",
              "      <td>6</td>\n",
              "      <td>2</td>\n",
              "    </tr>\n",
              "    <tr>\n",
              "      <th>4</th>\n",
              "      <td>male</td>\n",
              "      <td>2</td>\n",
              "      <td>A00001</td>\n",
              "      <td>B00001</td>\n",
              "      <td>C00012</td>\n",
              "      <td>D30805</td>\n",
              "      <td>1</td>\n",
              "      <td>1</td>\n",
              "      <td>1</td>\n",
              "      <td>1</td>\n",
              "      <td>A00001</td>\n",
              "      <td>2.0</td>\n",
              "      <td>2</td>\n",
              "      <td>16</td>\n",
              "    </tr>\n",
              "  </tbody>\n",
              "</table>\n",
              "</div>"
            ],
            "text/plain": [
              "   gender  NumProduct  FirstA  FirstB  ...   MostA duration  weekday  hour_24h\n",
              "0  female           4  A00002  B00003  ...  A00002      1.0        0        18\n",
              "1    male           7  A00001  B00009  ...  A00001      6.0        1        14\n",
              "2  female           1  A00002  B00001  ...  A00002      0.0        6        15\n",
              "3  female           3  A00002  B00004  ...  A00002      3.0        6         2\n",
              "4    male           2  A00001  B00001  ...  A00001      2.0        2        16\n",
              "\n",
              "[5 rows x 14 columns]"
            ]
          },
          "metadata": {
            "tags": []
          },
          "execution_count": 19
        }
      ]
    },
    {
      "cell_type": "code",
      "metadata": {
        "id": "5KquX8JXwqJL",
        "colab_type": "code",
        "colab": {}
      },
      "source": [
        "#train[['gender','MostA']].groupby(['gender','MostA']).MostA.count()\n"
      ],
      "execution_count": 0,
      "outputs": []
    },
    {
      "cell_type": "code",
      "metadata": {
        "ExecuteTime": {
          "end_time": "2020-04-12T09:24:26.142592Z",
          "start_time": "2020-04-12T09:24:25.641638Z"
        },
        "id": "gHjIFUBaubSE",
        "colab_type": "code",
        "colab": {}
      },
      "source": [
        "procs = [FillMissing, Categorify, Normalize]"
      ],
      "execution_count": 0,
      "outputs": []
    },
    {
      "cell_type": "code",
      "metadata": {
        "id": "J_sjC0-wubSM",
        "colab_type": "code",
        "colab": {}
      },
      "source": [
        "cat_vars = ['FirstA', 'FirstB', 'FirstC', 'FirstD', 'MostA','weekday','hour_24h']\n",
        "cont_vars = ['NumProduct',  'UniqueA', 'UniqueB', 'UniqueC', 'UniqueD','duration']"
      ],
      "execution_count": 0,
      "outputs": []
    },
    {
      "cell_type": "code",
      "metadata": {
        "id": "MIrs2avMykZZ",
        "colab_type": "code",
        "colab": {}
      },
      "source": [
        "train[cat_vars] = train[cat_vars].astype('category')\n",
        "test[cat_vars] = test[cat_vars].astype('category')"
      ],
      "execution_count": 0,
      "outputs": []
    },
    {
      "cell_type": "code",
      "metadata": {
        "id": "knx10j2dyrvX",
        "colab_type": "code",
        "colab": {}
      },
      "source": [
        "dep_var = 'gender'"
      ],
      "execution_count": 0,
      "outputs": []
    },
    {
      "cell_type": "code",
      "metadata": {
        "id": "1hjWhTj20Tq5",
        "colab_type": "code",
        "colab": {}
      },
      "source": [
        "train_df_len = len(train)\n",
        "valid_idx = range(round(0.99*train_df_len), train_df_len)"
      ],
      "execution_count": 0,
      "outputs": []
    },
    {
      "cell_type": "code",
      "metadata": {
        "id": "2zRGPZnL1qn_",
        "colab_type": "code",
        "colab": {}
      },
      "source": [
        "path ='drive/My Drive/Colab Notebooks/Tabular/Janata/inputs/'"
      ],
      "execution_count": 0,
      "outputs": []
    },
    {
      "cell_type": "code",
      "metadata": {
        "id": "JFMe99cSyxss",
        "colab_type": "code",
        "colab": {}
      },
      "source": [
        "data = (TabularList.from_df(train, cat_names=cat_vars, cont_names=cont_vars, procs=procs)\n",
        "                .split_by_rand_pct(valid_pct=0.15)                \n",
        "                .label_from_df(cols=dep_var)\n",
        "                .add_test(TabularList.from_df(test, cat_names=cat_vars, cont_names=cont_vars))\n",
        "                .databunch())\n",
        "\n",
        "#TabularDataBunch.from_df(path, train, dep_var=dep_var, valid_idx=valid_idx, test_df=test)"
      ],
      "execution_count": 0,
      "outputs": []
    },
    {
      "cell_type": "code",
      "metadata": {
        "id": "YzFcRnZa1921",
        "colab_type": "code",
        "outputId": "a8232d2d-51af-4e54-83da-b3ad2b7d3994",
        "colab": {
          "base_uri": "https://localhost:8080/",
          "height": 235
        }
      },
      "source": [
        "data.show_batch(rows= 6)"
      ],
      "execution_count": 0,
      "outputs": [
        {
          "output_type": "display_data",
          "data": {
            "text/html": [
              "<table border=\"1\" class=\"dataframe\">\n",
              "  <thead>\n",
              "    <tr style=\"text-align: right;\">\n",
              "      <th>FirstA</th>\n",
              "      <th>FirstB</th>\n",
              "      <th>FirstC</th>\n",
              "      <th>FirstD</th>\n",
              "      <th>MostA</th>\n",
              "      <th>weekday</th>\n",
              "      <th>hour_24h</th>\n",
              "      <th>NumProduct</th>\n",
              "      <th>UniqueA</th>\n",
              "      <th>UniqueB</th>\n",
              "      <th>UniqueC</th>\n",
              "      <th>UniqueD</th>\n",
              "      <th>duration</th>\n",
              "      <th>target</th>\n",
              "    </tr>\n",
              "  </thead>\n",
              "  <tbody>\n",
              "    <tr>\n",
              "      <td>A00002</td>\n",
              "      <td>B00007</td>\n",
              "      <td>C00024</td>\n",
              "      <td>D06100</td>\n",
              "      <td>A00002</td>\n",
              "      <td>0</td>\n",
              "      <td>20</td>\n",
              "      <td>-0.5189</td>\n",
              "      <td>-0.1953</td>\n",
              "      <td>-0.3392</td>\n",
              "      <td>-0.3392</td>\n",
              "      <td>-0.3392</td>\n",
              "      <td>0.0011</td>\n",
              "      <td>female</td>\n",
              "    </tr>\n",
              "    <tr>\n",
              "      <td>A00002</td>\n",
              "      <td>B00017</td>\n",
              "      <td>C00139</td>\n",
              "      <td>D01775</td>\n",
              "      <td>A00002</td>\n",
              "      <td>4</td>\n",
              "      <td>21</td>\n",
              "      <td>-0.5189</td>\n",
              "      <td>-0.1953</td>\n",
              "      <td>-0.3392</td>\n",
              "      <td>-0.3392</td>\n",
              "      <td>-0.3392</td>\n",
              "      <td>0.0011</td>\n",
              "      <td>female</td>\n",
              "    </tr>\n",
              "    <tr>\n",
              "      <td>A00001</td>\n",
              "      <td>B00001</td>\n",
              "      <td>C00182</td>\n",
              "      <td>D13302</td>\n",
              "      <td>A00001</td>\n",
              "      <td>2</td>\n",
              "      <td>19</td>\n",
              "      <td>-0.0882</td>\n",
              "      <td>-0.1953</td>\n",
              "      <td>1.9198</td>\n",
              "      <td>1.9198</td>\n",
              "      <td>1.9198</td>\n",
              "      <td>0.0028</td>\n",
              "      <td>male</td>\n",
              "    </tr>\n",
              "    <tr>\n",
              "      <td>A00002</td>\n",
              "      <td>B00001</td>\n",
              "      <td>C00049</td>\n",
              "      <td>D15545</td>\n",
              "      <td>A00002</td>\n",
              "      <td>2</td>\n",
              "      <td>7</td>\n",
              "      <td>-0.5189</td>\n",
              "      <td>-0.1953</td>\n",
              "      <td>-0.3392</td>\n",
              "      <td>-0.3392</td>\n",
              "      <td>-0.3392</td>\n",
              "      <td>0.0011</td>\n",
              "      <td>female</td>\n",
              "    </tr>\n",
              "    <tr>\n",
              "      <td>A00002</td>\n",
              "      <td>B00002</td>\n",
              "      <td>C00002</td>\n",
              "      <td>D18768</td>\n",
              "      <td>A00002</td>\n",
              "      <td>0</td>\n",
              "      <td>21</td>\n",
              "      <td>-0.5189</td>\n",
              "      <td>-0.1953</td>\n",
              "      <td>-0.3392</td>\n",
              "      <td>-0.3392</td>\n",
              "      <td>-0.3392</td>\n",
              "      <td>0.0011</td>\n",
              "      <td>female</td>\n",
              "    </tr>\n",
              "    <tr>\n",
              "      <td>A00003</td>\n",
              "      <td>B00020</td>\n",
              "      <td>C00052</td>\n",
              "      <td>D22578</td>\n",
              "      <td>A00003</td>\n",
              "      <td>2</td>\n",
              "      <td>9</td>\n",
              "      <td>0.3424</td>\n",
              "      <td>-0.1953</td>\n",
              "      <td>-0.3392</td>\n",
              "      <td>-0.3392</td>\n",
              "      <td>-0.3392</td>\n",
              "      <td>0.0012</td>\n",
              "      <td>female</td>\n",
              "    </tr>\n",
              "  </tbody>\n",
              "</table>"
            ],
            "text/plain": [
              "<IPython.core.display.HTML object>"
            ]
          },
          "metadata": {
            "tags": []
          }
        }
      ]
    },
    {
      "cell_type": "code",
      "metadata": {
        "id": "IV1D1Sc12L27",
        "colab_type": "code",
        "colab": {}
      },
      "source": [
        "#learn = tabular_learner(data, layers=[ 200 , 100], ps=[0.001,0.01], emb_drop=0.04, emb_szs={'ID_code': 20}, metrics=accuracy , path='.')"
      ],
      "execution_count": 0,
      "outputs": []
    },
    {
      "cell_type": "code",
      "metadata": {
        "id": "GYmIR1LA1fHi",
        "colab_type": "code",
        "colab": {}
      },
      "source": [
        "#ps=[0.01,0.1],,  emb_drop=0.04, emb_szs={'MostA': 9},\n",
        "learn = tabular_learner(data, layers=[250,150],metrics=accuracy,emb_szs={'MostA': 4,'MostD': 4})"
      ],
      "execution_count": 0,
      "outputs": []
    },
    {
      "cell_type": "code",
      "metadata": {
        "id": "Bf0WKhmA2eqd",
        "colab_type": "code",
        "outputId": "a6eaee80-5c6a-4cdc-8d90-4268f4ed1855",
        "colab": {
          "base_uri": "https://localhost:8080/",
          "height": 112
        }
      },
      "source": [
        "learn.lr_find()"
      ],
      "execution_count": 0,
      "outputs": [
        {
          "output_type": "display_data",
          "data": {
            "text/html": [
              "\n",
              "    <div>\n",
              "        <style>\n",
              "            /* Turns off some styling */\n",
              "            progress {\n",
              "                /* gets rid of default border in Firefox and Opera. */\n",
              "                border: none;\n",
              "                /* Needs to be in here for Safari polyfill so background images work as expected. */\n",
              "                background-size: auto;\n",
              "            }\n",
              "            .progress-bar-interrupted, .progress-bar-interrupted::-webkit-progress-bar {\n",
              "                background: #F44336;\n",
              "            }\n",
              "        </style>\n",
              "      <progress value='0' class='' max='1' style='width:300px; height:20px; vertical-align: middle;'></progress>\n",
              "      0.00% [0/1 00:00<00:00]\n",
              "    </div>\n",
              "    \n",
              "<table border=\"1\" class=\"dataframe\">\n",
              "  <thead>\n",
              "    <tr style=\"text-align: left;\">\n",
              "      <th>epoch</th>\n",
              "      <th>train_loss</th>\n",
              "      <th>valid_loss</th>\n",
              "      <th>accuracy</th>\n",
              "      <th>time</th>\n",
              "    </tr>\n",
              "  </thead>\n",
              "  <tbody>\n",
              "  </tbody>\n",
              "</table><p>\n",
              "\n",
              "    <div>\n",
              "        <style>\n",
              "            /* Turns off some styling */\n",
              "            progress {\n",
              "                /* gets rid of default border in Firefox and Opera. */\n",
              "                border: none;\n",
              "                /* Needs to be in here for Safari polyfill so background images work as expected. */\n",
              "                background-size: auto;\n",
              "            }\n",
              "            .progress-bar-interrupted, .progress-bar-interrupted::-webkit-progress-bar {\n",
              "                background: #F44336;\n",
              "            }\n",
              "        </style>\n",
              "      <progress value='80' class='' max='139' style='width:300px; height:20px; vertical-align: middle;'></progress>\n",
              "      57.55% [80/139 00:01<00:00 0.6287]\n",
              "    </div>\n",
              "    "
            ],
            "text/plain": [
              "<IPython.core.display.HTML object>"
            ]
          },
          "metadata": {
            "tags": []
          }
        },
        {
          "output_type": "stream",
          "text": [
            "LR Finder is complete, type {learner_name}.recorder.plot() to see the graph.\n"
          ],
          "name": "stdout"
        }
      ]
    },
    {
      "cell_type": "code",
      "metadata": {
        "id": "pEY-SxJL2hkO",
        "colab_type": "code",
        "outputId": "306f26a2-5bec-42ab-e799-ef35d4e42009",
        "colab": {
          "base_uri": "https://localhost:8080/",
          "height": 279
        }
      },
      "source": [
        "learn.recorder.plot()"
      ],
      "execution_count": 0,
      "outputs": [
        {
          "output_type": "display_data",
          "data": {
            "image/png": "[encoded data removed]",
            "text/plain": [
              "<Figure size 432x288 with 1 Axes>"
            ]
          },
          "metadata": {
            "tags": [],
            "needs_background": "light"
          }
        }
      ]
    },
    {
      "cell_type": "code",
      "metadata": {
        "id": "jcXFHmewTm45",
        "colab_type": "code",
        "outputId": "5397c440-1af8-468c-8cb0-4c36bc0c3145",
        "colab": {
          "base_uri": "https://localhost:8080/",
          "height": 359
        }
      },
      "source": [
        "lr = 5e-2\n",
        "learn.unfreeze()\n",
        "learn.fit_one_cycle(10, lr , wd = 0.01)"
      ],
      "execution_count": 0,
      "outputs": [
        {
          "output_type": "display_data",
          "data": {
            "text/html": [
              "<table border=\"1\" class=\"dataframe\">\n",
              "  <thead>\n",
              "    <tr style=\"text-align: left;\">\n",
              "      <th>epoch</th>\n",
              "      <th>train_loss</th>\n",
              "      <th>valid_loss</th>\n",
              "      <th>accuracy</th>\n",
              "      <th>time</th>\n",
              "    </tr>\n",
              "  </thead>\n",
              "  <tbody>\n",
              "    <tr>\n",
              "      <td>0</td>\n",
              "      <td>0.418608</td>\n",
              "      <td>0.366995</td>\n",
              "      <td>0.877460</td>\n",
              "      <td>00:02</td>\n",
              "    </tr>\n",
              "    <tr>\n",
              "      <td>1</td>\n",
              "      <td>0.220795</td>\n",
              "      <td>0.437652</td>\n",
              "      <td>0.836825</td>\n",
              "      <td>00:02</td>\n",
              "    </tr>\n",
              "    <tr>\n",
              "      <td>2</td>\n",
              "      <td>0.193940</td>\n",
              "      <td>0.437987</td>\n",
              "      <td>0.871746</td>\n",
              "      <td>00:02</td>\n",
              "    </tr>\n",
              "    <tr>\n",
              "      <td>3</td>\n",
              "      <td>0.157419</td>\n",
              "      <td>0.554683</td>\n",
              "      <td>0.875556</td>\n",
              "      <td>00:02</td>\n",
              "    </tr>\n",
              "    <tr>\n",
              "      <td>4</td>\n",
              "      <td>0.107972</td>\n",
              "      <td>0.470606</td>\n",
              "      <td>0.876825</td>\n",
              "      <td>00:02</td>\n",
              "    </tr>\n",
              "    <tr>\n",
              "      <td>5</td>\n",
              "      <td>0.088442</td>\n",
              "      <td>0.600680</td>\n",
              "      <td>0.877460</td>\n",
              "      <td>00:02</td>\n",
              "    </tr>\n",
              "    <tr>\n",
              "      <td>6</td>\n",
              "      <td>0.068970</td>\n",
              "      <td>0.542949</td>\n",
              "      <td>0.880635</td>\n",
              "      <td>00:02</td>\n",
              "    </tr>\n",
              "    <tr>\n",
              "      <td>7</td>\n",
              "      <td>0.057693</td>\n",
              "      <td>0.627562</td>\n",
              "      <td>0.885079</td>\n",
              "      <td>00:02</td>\n",
              "    </tr>\n",
              "    <tr>\n",
              "      <td>8</td>\n",
              "      <td>0.041774</td>\n",
              "      <td>0.743887</td>\n",
              "      <td>0.885079</td>\n",
              "      <td>00:02</td>\n",
              "    </tr>\n",
              "    <tr>\n",
              "      <td>9</td>\n",
              "      <td>0.039313</td>\n",
              "      <td>0.751677</td>\n",
              "      <td>0.886984</td>\n",
              "      <td>00:02</td>\n",
              "    </tr>\n",
              "  </tbody>\n",
              "</table>"
            ],
            "text/plain": [
              "<IPython.core.display.HTML object>"
            ]
          },
          "metadata": {
            "tags": []
          }
        }
      ]
    },
    {
      "cell_type": "code",
      "metadata": {
        "id": "PeITisrn2l-S",
        "colab_type": "code",
        "outputId": "6e8497a1-7daf-47c2-c340-da02036a6c23",
        "colab": {
          "base_uri": "https://localhost:8080/",
          "height": 359
        }
      },
      "source": [
        "lr = 0.001\n",
        "lr = 1e-2\n",
        "learn.unfreeze()\n",
        "learn.fit_one_cycle(10, lr , wd = 0.01)"
      ],
      "execution_count": 0,
      "outputs": [
        {
          "output_type": "display_data",
          "data": {
            "text/html": [
              "<table border=\"1\" class=\"dataframe\">\n",
              "  <thead>\n",
              "    <tr style=\"text-align: left;\">\n",
              "      <th>epoch</th>\n",
              "      <th>train_loss</th>\n",
              "      <th>valid_loss</th>\n",
              "      <th>accuracy</th>\n",
              "      <th>time</th>\n",
              "    </tr>\n",
              "  </thead>\n",
              "  <tbody>\n",
              "    <tr>\n",
              "      <td>0</td>\n",
              "      <td>0.041892</td>\n",
              "      <td>0.745473</td>\n",
              "      <td>0.885714</td>\n",
              "      <td>00:02</td>\n",
              "    </tr>\n",
              "    <tr>\n",
              "      <td>1</td>\n",
              "      <td>0.039211</td>\n",
              "      <td>0.663139</td>\n",
              "      <td>0.883175</td>\n",
              "      <td>00:02</td>\n",
              "    </tr>\n",
              "    <tr>\n",
              "      <td>2</td>\n",
              "      <td>0.044529</td>\n",
              "      <td>0.656512</td>\n",
              "      <td>0.887619</td>\n",
              "      <td>00:02</td>\n",
              "    </tr>\n",
              "    <tr>\n",
              "      <td>3</td>\n",
              "      <td>0.045121</td>\n",
              "      <td>0.716150</td>\n",
              "      <td>0.880635</td>\n",
              "      <td>00:02</td>\n",
              "    </tr>\n",
              "    <tr>\n",
              "      <td>4</td>\n",
              "      <td>0.047296</td>\n",
              "      <td>0.721589</td>\n",
              "      <td>0.870476</td>\n",
              "      <td>00:02</td>\n",
              "    </tr>\n",
              "    <tr>\n",
              "      <td>5</td>\n",
              "      <td>0.038252</td>\n",
              "      <td>0.731861</td>\n",
              "      <td>0.882540</td>\n",
              "      <td>00:02</td>\n",
              "    </tr>\n",
              "    <tr>\n",
              "      <td>6</td>\n",
              "      <td>0.037753</td>\n",
              "      <td>0.761155</td>\n",
              "      <td>0.876190</td>\n",
              "      <td>00:02</td>\n",
              "    </tr>\n",
              "    <tr>\n",
              "      <td>7</td>\n",
              "      <td>0.033907</td>\n",
              "      <td>0.790436</td>\n",
              "      <td>0.877460</td>\n",
              "      <td>00:02</td>\n",
              "    </tr>\n",
              "    <tr>\n",
              "      <td>8</td>\n",
              "      <td>0.030880</td>\n",
              "      <td>0.829403</td>\n",
              "      <td>0.878095</td>\n",
              "      <td>00:02</td>\n",
              "    </tr>\n",
              "    <tr>\n",
              "      <td>9</td>\n",
              "      <td>0.030251</td>\n",
              "      <td>0.830077</td>\n",
              "      <td>0.877460</td>\n",
              "      <td>00:02</td>\n",
              "    </tr>\n",
              "  </tbody>\n",
              "</table>"
            ],
            "text/plain": [
              "<IPython.core.display.HTML object>"
            ]
          },
          "metadata": {
            "tags": []
          }
        }
      ]
    },
    {
      "cell_type": "code",
      "metadata": {
        "id": "hMFAkofm27d_",
        "colab_type": "code",
        "outputId": "cf1bb162-7ba9-4fd4-b8e9-de9b6cdc7db4",
        "colab": {
          "base_uri": "https://localhost:8080/",
          "height": 279
        }
      },
      "source": [
        "learn.recorder.plot()"
      ],
      "execution_count": 0,
      "outputs": [
        {
          "output_type": "display_data",
          "data": {
            "image/png": "[encoded data removed]",
            "text/plain": [
              "<Figure size 432x288 with 1 Axes>"
            ]
          },
          "metadata": {
            "tags": [],
            "needs_background": "light"
          }
        }
      ]
    },
    {
      "cell_type": "code",
      "metadata": {
        "id": "28oEAbhl2wF6",
        "colab_type": "code",
        "outputId": "a55633ca-62e1-49fa-e21e-db0140583487",
        "colab": {
          "base_uri": "https://localhost:8080/",
          "height": 279
        }
      },
      "source": [
        "learn.recorder.plot_losses()"
      ],
      "execution_count": 0,
      "outputs": [
        {
          "output_type": "display_data",
          "data": {
            "image/png": "[encoded data removed]",
            "text/plain": [
              "<Figure size 432x288 with 1 Axes>"
            ]
          },
          "metadata": {
            "tags": [],
            "needs_background": "light"
          }
        }
      ]
    },
    {
      "cell_type": "code",
      "metadata": {
        "id": "TMYaVJ9U3JBV",
        "colab_type": "code",
        "outputId": "ed2f44d1-0d4e-4019-8048-48d4f1219883",
        "colab": {
          "base_uri": "https://localhost:8080/",
          "height": 136
        }
      },
      "source": [
        "test_preds = learn.get_preds(ds_type=DatasetType.Test)\n",
        "test_preds"
      ],
      "execution_count": 0,
      "outputs": [
        {
          "output_type": "display_data",
          "data": {
            "text/html": [
              ""
            ],
            "text/plain": [
              "<IPython.core.display.HTML object>"
            ]
          },
          "metadata": {
            "tags": []
          }
        },
        {
          "output_type": "execute_result",
          "data": {
            "text/plain": [
              "[tensor([[9.9984e-01, 1.5504e-04],\n",
              "         [9.9974e-01, 2.6483e-04],\n",
              "         [9.9995e-01, 5.3363e-05],\n",
              "         ...,\n",
              "         [9.9131e-01, 8.6872e-03],\n",
              "         [2.9293e-03, 9.9707e-01],\n",
              "         [9.9959e-01, 4.0764e-04]]), tensor([0, 0, 0,  ..., 0, 0, 0])]"
            ]
          },
          "metadata": {
            "tags": []
          },
          "execution_count": 36
        }
      ]
    },
    {
      "cell_type": "code",
      "metadata": {
        "id": "2TYWCfy53gpr",
        "colab_type": "code",
        "outputId": "0a28a57a-16aa-446a-a046-4499a0c71620",
        "colab": {
          "base_uri": "https://localhost:8080/",
          "height": 34
        }
      },
      "source": [
        "target_preds = test_preds[0][:,0]\n",
        "target_preds\n",
        "target_preds = np.where(target_preds > 0.5, 1, 0)\n",
        "target_preds"
      ],
      "execution_count": 0,
      "outputs": [
        {
          "output_type": "execute_result",
          "data": {
            "text/plain": [
              "array([1, 1, 1, 1, ..., 1, 1, 0, 1])"
            ]
          },
          "metadata": {
            "tags": []
          },
          "execution_count": 37
        }
      ]
    },
    {
      "cell_type": "code",
      "metadata": {
        "id": "YnRyM2AEAzxH",
        "colab_type": "code",
        "colab": {}
      },
      "source": [
        "results = pd.DataFrame(data=target_preds, columns=[\"gender\"])\n",
        "results['gender'] = results['gender'].map({1:'female',0:'male'})\n",
        "sample_sub['gender'] = results['gender']\n",
        "sample_sub.to_csv(path+'/sample_submission_12th_April_9.csv',index=False)"
      ],
      "execution_count": 0,
      "outputs": []
    },
    {
      "cell_type": "code",
      "metadata": {
        "id": "4ExHUakS4IlV",
        "colab_type": "code",
        "colab": {}
      },
      "source": [
        "# Random Forest"
      ],
      "execution_count": 0,
      "outputs": []
    },
    {
      "cell_type": "code",
      "metadata": {
        "id": "2FaAKpM3dZX2",
        "colab_type": "code",
        "colab": {}
      },
      "source": [
        "train['gender'] = train['gender'].map({'female':1,'male':0})"
      ],
      "execution_count": 0,
      "outputs": []
    },
    {
      "cell_type": "code",
      "metadata": {
        "id": "gDSDWNfGcAMq",
        "colab_type": "code",
        "colab": {}
      },
      "source": [
        "#drop_lst = ['session_id', 'startTime', 'endTime', 'ProductList']\n",
        "data = pd.concat([train, test])\n",
        "#data = data.drop(drop_lst,axis =1 )"
      ],
      "execution_count": 0,
      "outputs": []
    },
    {
      "cell_type": "code",
      "metadata": {
        "id": "QDv0Xqg2cF_f",
        "colab_type": "code",
        "colab": {}
      },
      "source": [
        "data = pd.get_dummies(data)"
      ],
      "execution_count": 0,
      "outputs": []
    },
    {
      "cell_type": "code",
      "metadata": {
        "id": "rgfv1JbJZ2ma",
        "colab_type": "code",
        "colab": {}
      },
      "source": [
        "X_train = data.loc[data.gender.isnull() == False]\n",
        "Y_train = train['gender']\n",
        "X_train = X_train.drop('gender',axis = 1)\n",
        "\n",
        "X_test =  data.loc[data.gender.isnull()] \n",
        "X_test = X_test.drop('gender',axis = 1)"
      ],
      "execution_count": 0,
      "outputs": []
    },
    {
      "cell_type": "code",
      "metadata": {
        "id": "eAMBBsnwZXsX",
        "colab_type": "code",
        "colab": {}
      },
      "source": [
        "#Encoding for categories features\n",
        "#X_train = pd.get_dummies(X_train)\n",
        "#X_test = pd.get_dummies(X_test)"
      ],
      "execution_count": 0,
      "outputs": []
    },
    {
      "cell_type": "code",
      "metadata": {
        "id": "v8fIH-DVTh-p",
        "colab_type": "code",
        "outputId": "d05303c7-663a-4670-f221-fdca2c570368",
        "colab": {
          "base_uri": "https://localhost:8080/",
          "height": 51
        }
      },
      "source": [
        "from sklearn.model_selection import train_test_split\n",
        "val_size = 0.25\n",
        "X_train, X_val, Y_train, Y_val = train_test_split(X_train, Y_train, test_size=val_size)\n",
        "\n",
        "print(X_train.shape)\n",
        "print(X_val.shape)"
      ],
      "execution_count": 0,
      "outputs": [
        {
          "output_type": "stream",
          "text": [
            "(7875, 11577)\n",
            "(2625, 11577)\n"
          ],
          "name": "stdout"
        }
      ]
    },
    {
      "cell_type": "code",
      "metadata": {
        "id": "2lz0CiN7TiB2",
        "colab_type": "code",
        "outputId": "7b5630d6-a1e5-4041-a931-f47d5e9c6e2b",
        "colab": {
          "base_uri": "https://localhost:8080/",
          "height": 153
        }
      },
      "source": [
        "from sklearn.ensemble import RandomForestClassifier\n",
        "clf = RandomForestClassifier(class_weight = {1:.1, 0:.35})\n",
        "clf.fit(X_train,Y_train)"
      ],
      "execution_count": 0,
      "outputs": [
        {
          "output_type": "execute_result",
          "data": {
            "text/plain": [
              "RandomForestClassifier(bootstrap=True, ccp_alpha=0.0,\n",
              "                       class_weight={0: 0.35, 1: 0.1}, criterion='gini',\n",
              "                       max_depth=None, max_features='auto', max_leaf_nodes=None,\n",
              "                       max_samples=None, min_impurity_decrease=0.0,\n",
              "                       min_impurity_split=None, min_samples_leaf=1,\n",
              "                       min_samples_split=2, min_weight_fraction_leaf=0.0,\n",
              "                       n_estimators=100, n_jobs=None, oob_score=False,\n",
              "                       random_state=None, verbose=0, warm_start=False)"
            ]
          },
          "metadata": {
            "tags": []
          },
          "execution_count": 46
        }
      ]
    },
    {
      "cell_type": "code",
      "metadata": {
        "id": "t4ZQU_zUTh84",
        "colab_type": "code",
        "outputId": "12d03fc2-e6cc-4859-f6a8-bc1f05c8f079",
        "colab": {
          "base_uri": "https://localhost:8080/",
          "height": 102
        }
      },
      "source": [
        "from collections import Counter\n",
        "\n",
        "#scikit learn  library\n",
        "from sklearn.model_selection import train_test_split\n",
        "from sklearn.metrics import classification_report\n",
        "from sklearn.metrics import f1_score\n",
        "from sklearn.metrics import accuracy_score\n",
        "from sklearn.metrics import recall_score\n",
        "#Use LogisticRegression for classifier\n",
        "print(\"Evalute based on validation set\")\n",
        "\n",
        "print(\"f1 : \" + \" %s\" % f1_score(Y_val, clf.predict(X_val)))\n",
        "\n",
        "print(\"accuracy score\" + \" %s\" % accuracy_score(Y_val, clf.predict(X_val)))\n",
        "print(\"recall score micro: \" + \" %s\" % recall_score(Y_val, clf.predict(X_val), average='micro'))\n",
        "print(\"recall score macro: \" + \" %s\" % recall_score(Y_val, clf.predict(X_val), average='macro'))"
      ],
      "execution_count": 0,
      "outputs": [
        {
          "output_type": "stream",
          "text": [
            "Evalute based on validation set\n",
            "f1 :  0.9265882352941176\n",
            "accuracy score 0.8811428571428571\n",
            "recall score micro:  0.8811428571428571\n",
            "recall score macro:  0.7805345854571064\n"
          ],
          "name": "stdout"
        }
      ]
    },
    {
      "cell_type": "code",
      "metadata": {
        "id": "lcZSUZ45bTA-",
        "colab_type": "code",
        "colab": {}
      },
      "source": [
        "predresults = clf.predict(X_test)"
      ],
      "execution_count": 0,
      "outputs": []
    },
    {
      "cell_type": "code",
      "metadata": {
        "id": "vm6t6Uspin3U",
        "colab_type": "code",
        "outputId": "6655b069-c359-4b81-c3b9-599070921224",
        "colab": {
          "base_uri": "https://localhost:8080/",
          "height": 34
        }
      },
      "source": [
        "predresults"
      ],
      "execution_count": 0,
      "outputs": [
        {
          "output_type": "execute_result",
          "data": {
            "text/plain": [
              "array([1, 1, 1, 1, ..., 1, 1, 0, 1])"
            ]
          },
          "metadata": {
            "tags": []
          },
          "execution_count": 49
        }
      ]
    },
    {
      "cell_type": "code",
      "metadata": {
        "id": "OZWpTENXbXkL",
        "colab_type": "code",
        "colab": {}
      },
      "source": [
        "path ='drive/My Drive/Colab Notebooks/Tabular/Janata/inputs/'\n",
        "results = pd.DataFrame(data=predresults, columns=[\"gender\"])\n",
        "results['gender'] = results['gender'].map({1:'female',0:'male'})\n",
        "sample_sub['gender'] = results['gender']\n",
        "sample_sub.to_csv(path+'/sample_submission_11th_April_1.3.csv',index=False)"
      ],
      "execution_count": 0,
      "outputs": []
    },
    {
      "cell_type": "code",
      "metadata": {
        "id": "g07IvbDdi18k",
        "colab_type": "code",
        "colab": {}
      },
      "source": [
        "#sample_sub"
      ],
      "execution_count": 0,
      "outputs": []
    },
    {
      "cell_type": "code",
      "metadata": {
        "id": "q3sVxVCSTh58",
        "colab_type": "code",
        "colab": {}
      },
      "source": [
        "# Ensemble"
      ],
      "execution_count": 0,
      "outputs": []
    },
    {
      "cell_type": "code",
      "metadata": {
        "id": "eA_sBAekhF2E",
        "colab_type": "code",
        "colab": {}
      },
      "source": [
        "import pandas as pd\n",
        "import numpy as np\n",
        "from scipy.stats import rankdata\n",
        "from sklearn.preprocessing import MinMaxScaler\n",
        "\n",
        "preds = pd.DataFrame()\n",
        "subA = pd.read_csv(path+'/sample_submission_11th_April_1.3.csv')\n",
        "subB = pd.read_csv(path+'/sample_submission_12th_April_9.csv')\n",
        "\n",
        "subA['gender'] = subA['gender'].map({'female':1,'male':0})\n",
        "subB['gender'] = subB['gender'].map({'female':1,'male':0})\n",
        "\n",
        "subA = subA.merge(subB, on='session_id', how='left')\n",
        "\n",
        "preds['session_id'] = subA.session_id\n",
        "preds['PredsSubA'] = subA.gender_x\n",
        "preds['PredsSubB'] = subA.gender_y\n",
        "preds['RanksSubA'] = rankdata(subA.gender_x)\n",
        "preds['RanksSubB'] = rankdata(subA.gender_y)\n",
        "\n",
        "preds['RankAverage'] = preds[['RanksSubA', 'RanksSubB']].mean(1)\n",
        "\n",
        "preds['gender'] = MinMaxScaler().fit_transform(preds['RankAverage'].values.reshape(-1, 1))\n",
        "preds['gender'] = np.where(preds['gender'] > 0.5, 1, 0)\n",
        "preds['gender'] = preds['gender'].map({1:'female',0:'male'})\n",
        "preds[['session_id', 'gender']].to_csv(path+'/final_submission.csv', index=False)"
      ],
      "execution_count": 0,
      "outputs": []
    },
    {
      "cell_type": "code",
      "metadata": {
        "id": "qsptmikth3Xn",
        "colab_type": "code",
        "colab": {}
      },
      "source": [
        "#finished\n"
      ],
      "execution_count": 0,
      "outputs": []
    },
    {
      "cell_type": "code",
      "metadata": {
        "id": "DePT-TCrke9f",
        "colab_type": "code",
        "outputId": "444895f8-9f89-4c2e-e916-ed60aee3ac0c",
        "colab": {
          "base_uri": "https://localhost:8080/",
          "height": 221
        }
      },
      "source": [
        "preds['gender']"
      ],
      "execution_count": 0,
      "outputs": [
        {
          "output_type": "execute_result",
          "data": {
            "text/plain": [
              "0       female\n",
              "1       female\n",
              "2       female\n",
              "3       female\n",
              "4       female\n",
              "         ...  \n",
              "4495      male\n",
              "4496    female\n",
              "4497    female\n",
              "4498      male\n",
              "4499    female\n",
              "Name: gender, Length: 4500, dtype: object"
            ]
          },
          "metadata": {
            "tags": []
          },
          "execution_count": 62
        }
      ]
    },
    {
      "cell_type": "code",
      "metadata": {
        "id": "lkiRGIOKkfYq",
        "colab_type": "code",
        "colab": {}
      },
      "source": [
        ""
      ],
      "execution_count": 0,
      "outputs": []
    }
  ]
}